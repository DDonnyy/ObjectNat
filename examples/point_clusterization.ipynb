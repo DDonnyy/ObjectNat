{
 "cells": [
  {
   "metadata": {},
   "cell_type": "markdown",
   "source": [],
   "id": "f1fa453ecaeb67d4"
  },
  {
   "metadata": {},
   "cell_type": "code",
   "source": [
    "import numpy as np\n",
    "from objectnat import get_clusters_polygon\n",
    "import geopandas as gpd\n",
    "services = gpd.read_parquet('examples_data/services.parquet').to_crs(32636)\n",
    "services.rename(columns={'city_service_type':'service_code'},inplace=True)\n",
    "clusters,services = get_clusters_polygon(services,min_dist=100,min_point=3)\n"
   ],
   "id": "f990273f2f2e26c",
   "outputs": [],
   "execution_count": null
  },
  {
   "metadata": {},
   "cell_type": "code",
   "source": [
    "m1 = clusters.explore(column='Школа',cmap='viridis',categorical=False)\n",
    "services.explore(m=m1)"
   ],
   "id": "9bc436828fb41d54",
   "outputs": [],
   "execution_count": null
  }
 ],
 "metadata": {
  "kernelspec": {
   "display_name": "Python 3",
   "language": "python",
   "name": "python3"
  },
  "language_info": {
   "codemirror_mode": {
    "name": "ipython",
    "version": 2
   },
   "file_extension": ".py",
   "mimetype": "text/x-python",
   "name": "python",
   "nbconvert_exporter": "python",
   "pygments_lexer": "ipython2",
   "version": "2.7.6"
  }
 },
 "nbformat": 4,
 "nbformat_minor": 5
}
