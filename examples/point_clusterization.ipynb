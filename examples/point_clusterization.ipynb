{
 "cells": [
  {
   "metadata": {},
   "cell_type": "markdown",
   "source": [],
   "id": "f1fa453ecaeb67d4"
  },
  {
   "metadata": {},
   "cell_type": "code",
   "source": [
    "from objectnat import get_clusters_polygon\n",
    "import geopandas as gpd\n",
    "\n",
    "# Importing necessary libraries:\n",
    "# - 'get_clusters_polygon' from 'objectnat' for clustering points and creating cluster polygons\n",
    "# - 'geopandas' for handling geospatial data\n",
    "\n",
    "services = gpd.read_parquet('examples_data/services.parquet').to_crs(32636)\n",
    "# Loading the service location data from a .parquet file and reprojecting it to EPSG:32636 (UTM zone).\n",
    "\n",
    "clusters, services = get_clusters_polygon(services, min_dist=100, min_point=3)\n",
    "# Performing clustering of the services based on their spatial distribution.\n",
    "# - 'min_dist' is set to 100, meaning points within 100 units (likely meters) of each other can be considered part of the same cluster.\n",
    "# - 'min_point' is set to 3, meaning a minimum of 3 points are required to form a cluster.\n",
    "# The function returns:\n",
    "# - 'clusters': a GeoDataFrame representing the polygons of the identified clusters.\n",
    "# - 'services': the original GeoDataFrame with an additional column indicating which cluster each service belongs to (if any).\n"
   ],
   "id": "f990273f2f2e26c",
   "outputs": [],
   "execution_count": null
  },
  {
   "metadata": {},
   "cell_type": "code",
   "source": [
    "m1 = clusters.explore(column='service_code', cmap='viridis', categorical=False)\n",
    "services.explore(m=m1)"
   ],
   "id": "9bc436828fb41d54",
   "outputs": [],
   "execution_count": null
  }
 ],
 "metadata": {
  "kernelspec": {
   "display_name": "Python 3",
   "language": "python",
   "name": "python3"
  },
  "language_info": {
   "codemirror_mode": {
    "name": "ipython",
    "version": 2
   },
   "file_extension": ".py",
   "mimetype": "text/x-python",
   "name": "python",
   "nbconvert_exporter": "python",
   "pygments_lexer": "ipython2",
   "version": "2.7.6"
  }
 },
 "nbformat": 4,
 "nbformat_minor": 5
}
