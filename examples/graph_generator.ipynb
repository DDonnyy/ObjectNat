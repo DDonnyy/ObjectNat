{
 "cells": [
  {
   "cell_type": "markdown",
   "source": [],
   "metadata": {
    "collapsed": false
   },
   "id": "fbae589d5cabc2d3"
  },
  {
   "cell_type": "code",
   "id": "initial_id",
   "metadata": {
    "collapsed": true
   },
   "source": [
    "%load_ext autoreload\n",
    "%autoreload 2\n",
    "from shapely import from_wkt\n",
    "from objectnat import get_intermodal_graph_from_osm\n",
    "import osmnx as ox\n",
    "\n",
    "graph = get_intermodal_graph_from_osm(city_osm_id=1114252, city_crs=32636,keep_city_boundary=True)\n",
    "\n",
    "for i in graph.edges(data=True):\n",
    "    i[2]['geometry'] = from_wkt(str(i[2]['geometry']))"
   ],
   "outputs": [],
   "execution_count": null
  },
  {
   "cell_type": "code",
   "source": [
    "ox.graph_to_gdfs(graph, nodes=False).explore(column ='type')"
   ],
   "metadata": {
    "collapsed": false
   },
   "id": "5e88d89ca9eefcb2",
   "outputs": [],
   "execution_count": null
  }
 ],
 "metadata": {
  "kernelspec": {
   "display_name": "Python 3",
   "language": "python",
   "name": "python3"
  },
  "language_info": {
   "codemirror_mode": {
    "name": "ipython",
    "version": 2
   },
   "file_extension": ".py",
   "mimetype": "text/x-python",
   "name": "python",
   "nbconvert_exporter": "python",
   "pygments_lexer": "ipython2",
   "version": "2.7.6"
  }
 },
 "nbformat": 4,
 "nbformat_minor": 5
}
