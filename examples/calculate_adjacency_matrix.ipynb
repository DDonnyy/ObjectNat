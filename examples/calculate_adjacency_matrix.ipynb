{
 "cells": [
  {
   "cell_type": "markdown",
   "source": [
    "Intermodal nx_graph can be loaded from OSM [example](graph_generator.ipynb)"
   ],
   "metadata": {
    "collapsed": false
   },
   "id": "d10ecffbbb244aa7"
  },
  {
   "cell_type": "code",
   "execution_count": null,
   "outputs": [
    {
     "name": "stderr",
     "output_type": "stream",
     "text": [
      "\u001B[32m2024-05-19 18:45:05.304\u001B[0m | \u001B[1mINFO    \u001B[0m | \u001B[36mdongraphio.dongraphio\u001B[0m:\u001B[36mget_intermodal_graph_from_osm\u001B[0m:\u001B[36m61\u001B[0m - \u001B[1mCreating intermodal graph from OSM...\u001B[0m\n",
      "\u001B[32m2024-05-19 18:45:05.305\u001B[0m | \u001B[33m\u001B[1mWARNING \u001B[0m | \u001B[36mdongraphio.base_models.grapher_logic\u001B[0m:\u001B[36mget_public_trasport_graph\u001B[0m:\u001B[36m237\u001B[0m - \u001B[33m\u001B[1mFiles with routes or with stops was not found. The graph will be built based on data from OSM\u001B[0m\n",
      "\u001B[32m2024-05-19 18:45:05.713\u001B[0m | \u001B[33m\u001B[1mWARNING \u001B[0m | \u001B[36mdongraphio.base_models.grapher_logic\u001B[0m:\u001B[36mpublic_routes_to_edges\u001B[0m:\u001B[36m162\u001B[0m - \u001B[33m\u001B[1mIt seems there are no subway routes in the city. This transport type will be skipped.\u001B[0m\n",
      "\u001B[32m2024-05-19 18:45:05.962\u001B[0m | \u001B[33m\u001B[1mWARNING \u001B[0m | \u001B[36mdongraphio.base_models.grapher_logic\u001B[0m:\u001B[36mpublic_routes_to_edges\u001B[0m:\u001B[36m162\u001B[0m - \u001B[33m\u001B[1mIt seems there are no tram routes in the city. This transport type will be skipped.\u001B[0m\n",
      "\u001B[32m2024-05-19 18:45:06.227\u001B[0m | \u001B[33m\u001B[1mWARNING \u001B[0m | \u001B[36mdongraphio.base_models.grapher_logic\u001B[0m:\u001B[36mpublic_routes_to_edges\u001B[0m:\u001B[36m162\u001B[0m - \u001B[33m\u001B[1mIt seems there are no trolleybus routes in the city. This transport type will be skipped.\u001B[0m\n",
      "\u001B[32m2024-05-19 18:45:06.544\u001B[0m | \u001B[33m\u001B[1mWARNING \u001B[0m | \u001B[36mdongraphio.base_models.grapher_logic\u001B[0m:\u001B[36mpublic_routes_to_edges\u001B[0m:\u001B[36m162\u001B[0m - \u001B[33m\u001B[1mIt seems there are no bus routes in the city. This transport type will be skipped.\u001B[0m\n",
      "\u001B[32m2024-05-19 18:45:06.545\u001B[0m | \u001B[33m\u001B[1mWARNING \u001B[0m | \u001B[36mdongraphio.base_models.grapher_logic\u001B[0m:\u001B[36mget_public_trasport_graph\u001B[0m:\u001B[36m259\u001B[0m - \u001B[33m\u001B[1mNo data found for public transport, this graph will be empty.\u001B[0m\n",
      "\u001B[32m2024-05-19 18:45:06.655\u001B[0m | \u001B[34m\u001B[1mDEBUG   \u001B[0m | \u001B[36mdongraphio.base_models.grapher_logic\u001B[0m:\u001B[36mget_osmnx_graph\u001B[0m:\u001B[36m95\u001B[0m - \u001B[34m\u001B[1mExtracting and preparing walk graph from OSM ...\u001B[0m\n"
     ]
    },
    {
     "data": {
      "text/plain": "Collecting walk graph:   0%|          | 0/3846 [00:00<?, ?it/s]",
      "application/vnd.jupyter.widget-view+json": {
       "version_major": 2,
       "version_minor": 0,
       "model_id": "e061d7a13bb24435bab10f81e3b17bc2"
      }
     },
     "metadata": {},
     "output_type": "display_data"
    },
    {
     "name": "stderr",
     "output_type": "stream",
     "text": [
      "\u001B[32m2024-05-19 18:45:07.883\u001B[0m | \u001B[34m\u001B[1mDEBUG   \u001B[0m | \u001B[36mdongraphio.base_models.grapher_logic\u001B[0m:\u001B[36mget_osmnx_graph\u001B[0m:\u001B[36m95\u001B[0m - \u001B[34m\u001B[1mExtracting and preparing drive graph from OSM ...\u001B[0m\n"
     ]
    },
    {
     "data": {
      "text/plain": "Collecting drive graph:   0%|          | 0/2351 [00:00<?, ?it/s]",
      "application/vnd.jupyter.widget-view+json": {
       "version_major": 2,
       "version_minor": 0,
       "model_id": "d397ddd88c464f0b9e3b3014f4f89ca1"
      }
     },
     "metadata": {},
     "output_type": "display_data"
    },
    {
     "name": "stderr",
     "output_type": "stream",
     "text": [
      "\u001B[32m2024-05-19 18:45:08.662\u001B[0m | \u001B[34m\u001B[1mDEBUG   \u001B[0m | \u001B[36mdongraphio.base_models.grapher_logic\u001B[0m:\u001B[36mget_intermodal_graph\u001B[0m:\u001B[36m46\u001B[0m - \u001B[34m\u001B[1mPreparing union of city_graphs...\u001B[0m\n"
     ]
    },
    {
     "data": {
      "text/plain": "Joining walk graph and car graph:   0%|          | 0/2351 [00:00<?, ?it/s]",
      "application/vnd.jupyter.widget-view+json": {
       "version_major": 2,
       "version_minor": 0,
       "model_id": "47ac5f63a7ca4f54b07fac43637260a5"
      }
     },
     "metadata": {},
     "output_type": "display_data"
    },
    {
     "name": "stderr",
     "output_type": "stream",
     "text": [
      "\u001B[32m2024-05-19 18:45:09.012\u001B[0m | \u001B[1mINFO    \u001B[0m | \u001B[36mdongraphio.base_models.grapher_logic\u001B[0m:\u001B[36mget_intermodal_graph\u001B[0m:\u001B[36m66\u001B[0m - \u001B[1mIntermodal graph done!\n",
      "\u001B[0m\n",
      "\u001B[32m2024-05-19 18:45:09.692\u001B[0m | \u001B[1mINFO    \u001B[0m | \u001B[36mdongraphio.dongraphio\u001B[0m:\u001B[36mget_adjacency_matrix\u001B[0m:\u001B[36m90\u001B[0m - \u001B[1mCreating adjacency matrix based on provided graph...\u001B[0m\n",
      "\u001B[32m2024-05-19 18:45:09.819\u001B[0m | \u001B[34m\u001B[1mDEBUG   \u001B[0m | \u001B[36mdongraphio.base_models.matrix_logic\u001B[0m:\u001B[36mget_adjacency_matrix\u001B[0m:\u001B[36m52\u001B[0m - \u001B[34m\u001B[1mCalculating distances ...\u001B[0m\n"
     ]
    }
   ],
   "source": [
    "from objectnat import get_adjacency_matrix, get_intermodal_graph_from_osm, GraphType\n",
    "import networkx as nx\n",
    "import geopandas as gpd\n",
    "import pandas as pd\n",
    "from IPython.display import display\n",
    "\n",
    "pd.set_option('display.max_columns', 15)\n",
    "\n",
    "nx_graph = get_intermodal_graph_from_osm(city_osm_id=7226665, city_crs=32643)\n",
    "buildings = gpd.read_file(\"examples_data/tara_buildings.geojson\")  # Data inside the file is in the global CRS EPSG:4326\n",
    "services = gpd.read_file(\"examples_data/tara_kinder.geojson\")  # Data inside the file is in the global CRS EPSG:4326\n",
    "matrix: pd.DataFrame = get_adjacency_matrix(buildings_from=buildings,\n",
    "                                            services_to=services,\n",
    "                                            nx_graph=nx_graph,\n",
    "                                            weight=\"time_min\",  # weight  could be only \"time_min\" or \"length_meter\"\n",
    "                                            city_crs=32643,\n",
    "                                            graph_type=[GraphType.DRIVE])  # CRS is explicitly specified \n",
    "display(matrix)"
   ],
   "metadata": {
    "collapsed": false,
    "is_executing": true,
    "ExecuteTime": {
     "start_time": "2024-05-19T15:45:05.306882500Z"
    }
   },
   "id": "initial_id"
  },
  {
   "cell_type": "code",
   "execution_count": 2,
   "outputs": [],
   "source": [
    "matrix.to_csv(\"examples_data/adjacency_matrix.csv\", index=False)"
   ],
   "metadata": {
    "collapsed": false,
    "ExecuteTime": {
     "end_time": "2024-05-19T15:44:09.348180200Z",
     "start_time": "2024-05-19T15:44:09.245055300Z"
    }
   },
   "id": "25d68a0a7d399b52"
  },
  {
   "cell_type": "code",
   "execution_count": null,
   "outputs": [],
   "source": [],
   "metadata": {
    "collapsed": false
   },
   "id": "a079f8317509da53"
  }
 ],
 "metadata": {
  "kernelspec": {
   "display_name": "Python 3",
   "language": "python",
   "name": "python3"
  },
  "language_info": {
   "codemirror_mode": {
    "name": "ipython",
    "version": 2
   },
   "file_extension": ".py",
   "mimetype": "text/x-python",
   "name": "python",
   "nbconvert_exporter": "python",
   "pygments_lexer": "ipython2",
   "version": "2.7.6"
  }
 },
 "nbformat": 4,
 "nbformat_minor": 5
}
