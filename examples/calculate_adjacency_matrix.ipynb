{
 "cells": [
  {
   "cell_type": "markdown",
   "source": [
    "Intermodal nx_graph can be loaded from OSM [example](graph_generator.ipynb)"
   ],
   "metadata": {
    "collapsed": false
   },
   "id": "d10ecffbbb244aa7"
  },
  {
   "cell_type": "code",
   "execution_count": null,
   "source": [
    "from objectnat import get_adjacency_matrix, get_intermodal_graph_from_osm, GraphType\n",
    "import geopandas as gpd\n",
    "import pandas as pd\n",
    "\n",
    "pd.set_option('display.max_columns', 15)\n",
    "\n",
    "nx_graph = get_intermodal_graph_from_osm(city_osm_id=1124722, city_crs=32636,keep_city_boundary=False)\n",
    "buildings = gpd.read_parquet('examples_data/spb_buildings.parquet').to_crs(32636)\n",
    "services = gpd.read_parquet('examples_data/spb_services.parquet').to_crs(32636) \n",
    "matrix: pd.DataFrame = get_adjacency_matrix(buildings_from=buildings,\n",
    "                                            services_to=services,\n",
    "                                            nx_graph=nx_graph,\n",
    "                                            weight=\"time_min\", \n",
    "                                            city_crs=32636,\n",
    "                                            graph_type=[GraphType.WALK,GraphType.PUBLIC_TRANSPORT]) "
   ],
   "metadata": {
    "collapsed": false
   },
   "id": "initial_id",
   "outputs": []
  },
  {
   "cell_type": "code",
   "execution_count": null,
   "outputs": [],
   "source": [
    "matrix.to_parquet('examples_data/matrix.parquet')"
   ],
   "metadata": {
    "collapsed": false
   },
   "id": "93e499acc97e874c"
  },
  {
   "cell_type": "code",
   "execution_count": null,
   "outputs": [],
   "source": [],
   "metadata": {
    "collapsed": false
   },
   "id": "a1d5e23294c6b308"
  }
 ],
 "metadata": {
  "kernelspec": {
   "display_name": "Python 3",
   "language": "python",
   "name": "python3"
  },
  "language_info": {
   "codemirror_mode": {
    "name": "ipython",
    "version": 2
   },
   "file_extension": ".py",
   "mimetype": "text/x-python",
   "name": "python",
   "nbconvert_exporter": "python",
   "pygments_lexer": "ipython2",
   "version": "2.7.6"
  }
 },
 "nbformat": 4,
 "nbformat_minor": 5
}
