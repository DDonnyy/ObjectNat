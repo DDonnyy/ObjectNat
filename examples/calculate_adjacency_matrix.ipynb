{
 "cells": [
  {
   "metadata": {},
   "cell_type": "code",
   "source": "!pip install objectnat",
   "id": "17a84d805c555bb1",
   "outputs": [],
   "execution_count": null
  },
  {
   "metadata": {},
   "cell_type": "code",
   "source": [
    "!pip install pyarrow \n",
    "#To read .parquet"
   ],
   "id": "69767f09c4e20671",
   "outputs": [],
   "execution_count": null
  },
  {
   "cell_type": "code",
   "source": [
    "from objectnat import get_adj_matrix_gdf_to_gdf, get_intermodal_graph\n",
    "import geopandas as gpd\n",
    "import pandas as pd\n",
    "from shapely.ops import unary_union\n",
    "\n",
    "buildings = gpd.read_parquet('examples_data/buildings.parquet')\n",
    "services = gpd.read_parquet('examples_data/services.parquet')\n",
    "\n",
    "polygon = unary_union([buildings.geometry.to_list() + services.geometry.to_list()]).convex_hull.buffer(\n",
    "    0.001)  # Getting an \"encircling\" polygon around our layer to download the graph \n",
    "G_intermodal = get_intermodal_graph(polygon=polygon, clip_by_bounds=True)\n",
    "\n",
    "buildings.to_crs(G_intermodal.graph['crs'], inplace=True)\n",
    "services.to_crs(G_intermodal.graph['crs'], inplace=True)"
   ],
   "metadata": {
    "collapsed": false
   },
   "id": "initial_id",
   "outputs": [],
   "execution_count": null
  },
  {
   "metadata": {},
   "cell_type": "code",
   "source": [
    "matrix: pd.DataFrame = get_adj_matrix_gdf_to_gdf(gdf_from=buildings,\n",
    "                                                 gft_to=services,\n",
    "                                                 nx_graph=G_intermodal,\n",
    "                                                 weight=\"time_min\",\n",
    "                                                 )"
   ],
   "id": "f763ed1656707714",
   "outputs": [],
   "execution_count": null
  },
  {
   "cell_type": "code",
   "source": "matrix.to_parquet('examples_data/matrix_time.parquet')",
   "metadata": {
    "collapsed": false
   },
   "id": "93e499acc97e874c",
   "outputs": [],
   "execution_count": null
  }
 ],
 "metadata": {
  "kernelspec": {
   "display_name": "Python 3",
   "language": "python",
   "name": "python3"
  },
  "language_info": {
   "codemirror_mode": {
    "name": "ipython",
    "version": 2
   },
   "file_extension": ".py",
   "mimetype": "text/x-python",
   "name": "python",
   "nbconvert_exporter": "python",
   "pygments_lexer": "ipython2",
   "version": "2.7.6"
  }
 },
 "nbformat": 4,
 "nbformat_minor": 5
}
