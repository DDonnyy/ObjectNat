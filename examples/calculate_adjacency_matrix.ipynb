{
 "cells": [
  {
   "cell_type": "markdown",
   "source": [
    "Intermodal nx_graph can be loaded from OSM [example](graph_generator.ipynb)"
   ],
   "metadata": {
    "collapsed": false
   },
   "id": "d10ecffbbb244aa7"
  },
  {
   "cell_type": "code",
   "execution_count": 1,
   "outputs": [
    {
     "data": {
      "text/html": "\n\t\t\t<script type=\"text/javascript\">\n\t\t\t<!--\n\t\t\t\t\n\t\t\t{\n\t\t\t\tvar element = document.getElementById('NetworKit_script');\n\t\t\t\tif (element) {\n\t\t\t\t\telement.parentNode.removeChild(element);\n\t\t\t\t}\n\t\t\t\telement = document.createElement('script');\n\t\t\t\telement.type = 'text/javascript';\n\t\t\t\telement.innerHTML = 'function NetworKit_pageEmbed(id) { var i, j; var elements; elements = document.getElementById(id).getElementsByClassName(\"Plot\"); for (i=0; i<elements.length; i++) { elements[i].id = id + \"_Plot_\" + i; var data = elements[i].getAttribute(\"data-image\").split(\"|\"); elements[i].removeAttribute(\"data-image\"); var content = \"<div class=\\\\\"Image\\\\\" id=\\\\\"\" + elements[i].id + \"_Image\\\\\" />\"; elements[i].innerHTML = content; elements[i].setAttribute(\"data-image-index\", 0); elements[i].setAttribute(\"data-image-length\", data.length); for (j=0; j<data.length; j++) { elements[i].setAttribute(\"data-image-\" + j, data[j]); } NetworKit_plotUpdate(elements[i]); elements[i].onclick = function (e) { NetworKit_overlayShow((e.target) ? e.target : e.srcElement); } } elements = document.getElementById(id).getElementsByClassName(\"HeatCell\"); for (i=0; i<elements.length; i++) { var data = parseFloat(elements[i].getAttribute(\"data-heat\")); var color = \"#00FF00\"; if (data <= 1 && data > 0) { color = \"hsla(0, 100%, 75%, \" + (data) + \")\"; } else if (data <= 0 && data >= -1) { color = \"hsla(240, 100%, 75%, \" + (-data) + \")\"; } elements[i].style.backgroundColor = color; } elements = document.getElementById(id).getElementsByClassName(\"Details\"); for (i=0; i<elements.length; i++) { elements[i].setAttribute(\"data-title\", \"-\"); NetworKit_toggleDetails(elements[i]); elements[i].onclick = function (e) { NetworKit_toggleDetails((e.target) ? e.target : e.srcElement); } } elements = document.getElementById(id).getElementsByClassName(\"MathValue\"); for (i=elements.length-1; i>=0; i--) { value = elements[i].innerHTML.trim(); if (value === \"nan\") { elements[i].parentNode.innerHTML = \"\" } } elements = document.getElementById(id).getElementsByClassName(\"SubCategory\"); for (i=elements.length-1; i>=0; i--) { value = elements[i].innerHTML.trim(); if (value === \"\") { elements[i].parentNode.removeChild(elements[i]) } } elements = document.getElementById(id).getElementsByClassName(\"Category\"); for (i=elements.length-1; i>=0; i--) { value = elements[i].innerHTML.trim(); if (value === \"\") { elements[i].parentNode.removeChild(elements[i]) } } var isFirefox = false; try { isFirefox = typeof InstallTrigger !== \"undefined\"; } catch (e) {} if (!isFirefox) { alert(\"Currently the function\\'s output is only fully supported by Firefox.\"); } } function NetworKit_plotUpdate(source) { var index = source.getAttribute(\"data-image-index\"); var data = source.getAttribute(\"data-image-\" + index); var image = document.getElementById(source.id + \"_Image\"); image.style.backgroundImage = \"url(\" + data + \")\"; } function NetworKit_showElement(id, show) { var element = document.getElementById(id); element.style.display = (show) ? \"block\" : \"none\"; } function NetworKit_overlayShow(source) { NetworKit_overlayUpdate(source); NetworKit_showElement(\"NetworKit_Overlay\", true); } function NetworKit_overlayUpdate(source) { document.getElementById(\"NetworKit_Overlay_Title\").innerHTML = source.title; var index = source.getAttribute(\"data-image-index\"); var data = source.getAttribute(\"data-image-\" + index); var image = document.getElementById(\"NetworKit_Overlay_Image\"); image.setAttribute(\"data-id\", source.id); image.style.backgroundImage = \"url(\" + data + \")\"; var link = document.getElementById(\"NetworKit_Overlay_Toolbar_Bottom_Save\"); link.href = data; link.download = source.title + \".svg\"; } function NetworKit_overlayImageShift(delta) { var image = document.getElementById(\"NetworKit_Overlay_Image\"); var source = document.getElementById(image.getAttribute(\"data-id\")); var index = parseInt(source.getAttribute(\"data-image-index\")); var length = parseInt(source.getAttribute(\"data-image-length\")); var index = (index+delta) % length; if (index < 0) { index = length + index; } source.setAttribute(\"data-image-index\", index); NetworKit_overlayUpdate(source); } function NetworKit_toggleDetails(source) { var childs = source.children; var show = false; if (source.getAttribute(\"data-title\") == \"-\") { source.setAttribute(\"data-title\", \"+\"); show = false; } else { source.setAttribute(\"data-title\", \"-\"); show = true; } for (i=0; i<childs.length; i++) { if (show) { childs[i].style.display = \"block\"; } else { childs[i].style.display = \"none\"; } } }';\n\t\t\t\telement.setAttribute('id', 'NetworKit_script');\n\t\t\t\tdocument.head.appendChild(element);\n\t\t\t}\n\t\t\n\t\t\t\t\n\t\t\t{\n\t\t\t\tvar element = document.getElementById('NetworKit_style');\n\t\t\t\tif (element) {\n\t\t\t\t\telement.parentNode.removeChild(element);\n\t\t\t\t}\n\t\t\t\telement = document.createElement('style');\n\t\t\t\telement.type = 'text/css';\n\t\t\t\telement.innerHTML = '.NetworKit_Page { font-family: Arial, Helvetica, sans-serif; font-size: 14px; } .NetworKit_Page .Value:before { font-family: Arial, Helvetica, sans-serif; font-size: 1.05em; content: attr(data-title) \":\"; margin-left: -2.5em; padding-right: 0.5em; } .NetworKit_Page .Details .Value:before { display: block; } .NetworKit_Page .Value { font-family: monospace; white-space: pre; padding-left: 2.5em; white-space: -moz-pre-wrap !important; white-space: -pre-wrap; white-space: -o-pre-wrap; white-space: pre-wrap; word-wrap: break-word; tab-size: 4; -moz-tab-size: 4; } .NetworKit_Page .Category { clear: both; padding-left: 1em; margin-bottom: 1.5em; } .NetworKit_Page .Category:before { content: attr(data-title); font-size: 1.75em; display: block; margin-left: -0.8em; margin-bottom: 0.5em; } .NetworKit_Page .SubCategory { margin-bottom: 1.5em; padding-left: 1em; } .NetworKit_Page .SubCategory:before { font-size: 1.6em; display: block; margin-left: -0.8em; margin-bottom: 0.5em; } .NetworKit_Page .SubCategory[data-title]:before { content: attr(data-title); } .NetworKit_Page .Block { display: block; } .NetworKit_Page .Block:after { content: \".\"; visibility: hidden; display: block; height: 0; clear: both; } .NetworKit_Page .Block .Thumbnail_Overview, .NetworKit_Page .Block .Thumbnail_ScatterPlot { width: 260px; float: left; } .NetworKit_Page .Block .Thumbnail_Overview img, .NetworKit_Page .Block .Thumbnail_ScatterPlot img { width: 260px; } .NetworKit_Page .Block .Thumbnail_Overview:before, .NetworKit_Page .Block .Thumbnail_ScatterPlot:before { display: block; text-align: center; font-weight: bold; } .NetworKit_Page .Block .Thumbnail_Overview:before { content: attr(data-title); } .NetworKit_Page .HeatCell { font-family: \"Courier New\", Courier, monospace; cursor: pointer; } .NetworKit_Page .HeatCell, .NetworKit_Page .HeatCellName { display: inline; padding: 0.1em; margin-right: 2px; background-color: #FFFFFF } .NetworKit_Page .HeatCellName { margin-left: 0.25em; } .NetworKit_Page .HeatCell:before { content: attr(data-heat); display: inline-block; color: #000000; width: 4em; text-align: center; } .NetworKit_Page .Measure { clear: both; } .NetworKit_Page .Measure .Details { cursor: pointer; } .NetworKit_Page .Measure .Details:before { content: \"[\" attr(data-title) \"]\"; display: block; } .NetworKit_Page .Measure .Details .Value { border-left: 1px dotted black; margin-left: 0.4em; padding-left: 3.5em; pointer-events: none; } .NetworKit_Page .Measure .Details .Spacer:before { content: \".\"; opacity: 0.0; pointer-events: none; } .NetworKit_Page .Measure .Plot { width: 440px; height: 440px; cursor: pointer; float: left; margin-left: -0.9em; margin-right: 20px; } .NetworKit_Page .Measure .Plot .Image { background-repeat: no-repeat; background-position: center center; background-size: contain; height: 100%; pointer-events: none; } .NetworKit_Page .Measure .Stat { width: 500px; float: left; } .NetworKit_Page .Measure .Stat .Group { padding-left: 1.25em; margin-bottom: 0.75em; } .NetworKit_Page .Measure .Stat .Group .Title { font-size: 1.1em; display: block; margin-bottom: 0.3em; margin-left: -0.75em; border-right-style: dotted; border-right-width: 1px; border-bottom-style: dotted; border-bottom-width: 1px; background-color: #D0D0D0; padding-left: 0.2em; } .NetworKit_Page .Measure .Stat .Group .List { -webkit-column-count: 3; -moz-column-count: 3; column-count: 3; } .NetworKit_Page .Measure .Stat .Group .List .Entry { position: relative; line-height: 1.75em; } .NetworKit_Page .Measure .Stat .Group .List .Entry[data-tooltip]:before { position: absolute; left: 0; top: -40px; background-color: #808080; color: #ffffff; height: 30px; line-height: 30px; border-radius: 5px; padding: 0 15px; content: attr(data-tooltip); white-space: nowrap; display: none; } .NetworKit_Page .Measure .Stat .Group .List .Entry[data-tooltip]:after { position: absolute; left: 15px; top: -10px; border-top: 7px solid #808080; border-left: 7px solid transparent; border-right: 7px solid transparent; content: \"\"; display: none; } .NetworKit_Page .Measure .Stat .Group .List .Entry[data-tooltip]:hover:after, .NetworKit_Page .Measure .Stat .Group .List .Entry[data-tooltip]:hover:before { display: block; } .NetworKit_Page .Measure .Stat .Group .List .Entry .MathValue { font-family: \"Courier New\", Courier, monospace; } .NetworKit_Page .Measure:after { content: \".\"; visibility: hidden; display: block; height: 0; clear: both; } .NetworKit_Page .PartitionPie { clear: both; } .NetworKit_Page .PartitionPie img { width: 600px; } #NetworKit_Overlay { left: 0px; top: 0px; display: none; position: absolute; width: 100%; height: 100%; background-color: rgba(0,0,0,0.6); z-index: 1000; } #NetworKit_Overlay_Title { position: absolute; color: white; transform: rotate(-90deg); width: 32em; height: 32em; padding-right: 0.5em; padding-top: 0.5em; text-align: right; font-size: 40px; } #NetworKit_Overlay .button { background: white; cursor: pointer; } #NetworKit_Overlay .button:before { size: 13px; display: inline-block; text-align: center; margin-top: 0.5em; margin-bottom: 0.5em; width: 1.5em; height: 1.5em; } #NetworKit_Overlay .icon-close:before { content: \"X\"; } #NetworKit_Overlay .icon-previous:before { content: \"P\"; } #NetworKit_Overlay .icon-next:before { content: \"N\"; } #NetworKit_Overlay .icon-save:before { content: \"S\"; } #NetworKit_Overlay_Toolbar_Top, #NetworKit_Overlay_Toolbar_Bottom { position: absolute; width: 40px; right: 13px; text-align: right; z-index: 1100; } #NetworKit_Overlay_Toolbar_Top { top: 0.5em; } #NetworKit_Overlay_Toolbar_Bottom { Bottom: 0.5em; } #NetworKit_Overlay_ImageContainer { position: absolute; top: 5%; left: 5%; height: 90%; width: 90%; background-repeat: no-repeat; background-position: center center; background-size: contain; } #NetworKit_Overlay_Image { height: 100%; width: 100%; background-repeat: no-repeat; background-position: center center; background-size: contain; }';\n\t\t\t\telement.setAttribute('id', 'NetworKit_style');\n\t\t\t\tdocument.head.appendChild(element);\n\t\t\t}\n\t\t\n\t\t\t\t\n\t\t\t{\n\t\t\t\tvar element = document.getElementById('NetworKit_Overlay');\n\t\t\t\tif (element) {\n\t\t\t\t\telement.parentNode.removeChild(element);\n\t\t\t\t}\n\t\t\t\telement = document.createElement('div');\n\t\t\t\telement.innerHTML = '<div id=\"NetworKit_Overlay_Toolbar_Top\"><div class=\"button icon-close\" id=\"NetworKit_Overlay_Close\" /></div><div id=\"NetworKit_Overlay_Title\" /> <div id=\"NetworKit_Overlay_ImageContainer\"> <div id=\"NetworKit_Overlay_Image\" /> </div> <div id=\"NetworKit_Overlay_Toolbar_Bottom\"> <div class=\"button icon-previous\" onclick=\"NetworKit_overlayImageShift(-1)\" /> <div class=\"button icon-next\" onclick=\"NetworKit_overlayImageShift(1)\" /> <a id=\"NetworKit_Overlay_Toolbar_Bottom_Save\"><div class=\"button icon-save\" /></a> </div>';\n\t\t\t\telement.setAttribute('id', 'NetworKit_Overlay');\n\t\t\t\tdocument.body.appendChild(element);\n\t\t\t\tdocument.getElementById('NetworKit_Overlay_Close').onclick = function (e) {\n\t\t\t\t\tdocument.getElementById('NetworKit_Overlay').style.display = 'none';\n\t\t\t\t}\n\t\t\t}\n\t\t\n\t\t\t-->\n\t\t\t</script>\n\t\t"
     },
     "metadata": {},
     "output_type": "display_data"
    },
    {
     "name": "stderr",
     "output_type": "stream",
     "text": [
      "\u001B[32m2024-03-07 16:24:17.987\u001B[0m | \u001B[1mINFO    \u001B[0m | \u001B[36mdongraphio.dongraphio\u001B[0m:\u001B[36mget_adjacency_matrix\u001B[0m:\u001B[36m85\u001B[0m - \u001B[1mCreating adjacency matrix based on provided graph...\u001B[0m\n",
      "\u001B[32m2024-03-07 16:24:18.245\u001B[0m | \u001B[34m\u001B[1mDEBUG   \u001B[0m | \u001B[36mdongraphio.base_models\u001B[0m:\u001B[36mget_adjacency_matrix\u001B[0m:\u001B[36m92\u001B[0m - \u001B[34m\u001B[1mCalculating distances from buildings to services ...\u001B[0m\n",
      "\u001B[32m2024-03-07 16:24:18.268\u001B[0m | \u001B[1mINFO    \u001B[0m | \u001B[36mdongraphio.dongraphio\u001B[0m:\u001B[36mget_adjacency_matrix\u001B[0m:\u001B[36m93\u001B[0m - \u001B[1mAdjacency matrix done!\u001B[0m\n"
     ]
    },
    {
     "data": {
      "text/plain": "   0     1     2     3     4     5     6     ...  6159  6160  6161  6162  \\\n0  47.0  33.7  27.9  31.2  29.5  39.9  46.6  ...  83.4  55.5  54.1  54.1   \n1  30.9  28.8  20.4  28.0  15.4  23.8  30.5  ...  67.6  39.7  38.3  38.3   \n2  30.3  18.9   9.6  16.4  12.1  23.2  29.9  ...  66.8  38.9  37.5  37.5   \n3  40.3  25.0  20.6  22.5  22.2  33.2  39.9  ...  76.8  48.9  47.5  47.5   \n4  23.7  14.3   6.7  16.0   0.0  16.6  23.3  ...  64.1  36.2  34.8  34.8   \n5   4.8  49.8  42.7  52.0  37.8  12.9   1.2  ...  86.0  58.1  56.7  56.7   \n6  43.3  27.1  24.2  24.6  25.8  36.2  42.9  ...  80.0  52.1  50.7  50.7   \n7  25.2  29.4  21.0  30.3  16.1  18.1  24.8  ...  60.8  32.9  31.5  31.5   \n8  33.6  36.9  28.5  37.8  23.6  26.5  33.2  ...  60.9  41.2  39.8  39.8   \n\n   6163  6164  6165  \n0  45.2  50.6  37.3  \n1  29.1  34.5  21.2  \n2  28.5  33.9  20.6  \n3  38.5  43.9  30.6  \n4  21.9  27.3  14.0  \n5   3.0   8.4  16.5  \n6  41.5  46.9  33.6  \n7  23.4  28.8  15.5  \n8  31.8  37.2  23.9  \n\n[9 rows x 6166 columns]",
      "text/html": "<div>\n<style scoped>\n    .dataframe tbody tr th:only-of-type {\n        vertical-align: middle;\n    }\n\n    .dataframe tbody tr th {\n        vertical-align: top;\n    }\n\n    .dataframe thead th {\n        text-align: right;\n    }\n</style>\n<table border=\"1\" class=\"dataframe\">\n  <thead>\n    <tr style=\"text-align: right;\">\n      <th></th>\n      <th>0</th>\n      <th>1</th>\n      <th>2</th>\n      <th>3</th>\n      <th>4</th>\n      <th>5</th>\n      <th>6</th>\n      <th>...</th>\n      <th>6159</th>\n      <th>6160</th>\n      <th>6161</th>\n      <th>6162</th>\n      <th>6163</th>\n      <th>6164</th>\n      <th>6165</th>\n    </tr>\n  </thead>\n  <tbody>\n    <tr>\n      <th>0</th>\n      <td>47.0</td>\n      <td>33.7</td>\n      <td>27.9</td>\n      <td>31.2</td>\n      <td>29.5</td>\n      <td>39.9</td>\n      <td>46.6</td>\n      <td>...</td>\n      <td>83.4</td>\n      <td>55.5</td>\n      <td>54.1</td>\n      <td>54.1</td>\n      <td>45.2</td>\n      <td>50.6</td>\n      <td>37.3</td>\n    </tr>\n    <tr>\n      <th>1</th>\n      <td>30.9</td>\n      <td>28.8</td>\n      <td>20.4</td>\n      <td>28.0</td>\n      <td>15.4</td>\n      <td>23.8</td>\n      <td>30.5</td>\n      <td>...</td>\n      <td>67.6</td>\n      <td>39.7</td>\n      <td>38.3</td>\n      <td>38.3</td>\n      <td>29.1</td>\n      <td>34.5</td>\n      <td>21.2</td>\n    </tr>\n    <tr>\n      <th>2</th>\n      <td>30.3</td>\n      <td>18.9</td>\n      <td>9.6</td>\n      <td>16.4</td>\n      <td>12.1</td>\n      <td>23.2</td>\n      <td>29.9</td>\n      <td>...</td>\n      <td>66.8</td>\n      <td>38.9</td>\n      <td>37.5</td>\n      <td>37.5</td>\n      <td>28.5</td>\n      <td>33.9</td>\n      <td>20.6</td>\n    </tr>\n    <tr>\n      <th>3</th>\n      <td>40.3</td>\n      <td>25.0</td>\n      <td>20.6</td>\n      <td>22.5</td>\n      <td>22.2</td>\n      <td>33.2</td>\n      <td>39.9</td>\n      <td>...</td>\n      <td>76.8</td>\n      <td>48.9</td>\n      <td>47.5</td>\n      <td>47.5</td>\n      <td>38.5</td>\n      <td>43.9</td>\n      <td>30.6</td>\n    </tr>\n    <tr>\n      <th>4</th>\n      <td>23.7</td>\n      <td>14.3</td>\n      <td>6.7</td>\n      <td>16.0</td>\n      <td>0.0</td>\n      <td>16.6</td>\n      <td>23.3</td>\n      <td>...</td>\n      <td>64.1</td>\n      <td>36.2</td>\n      <td>34.8</td>\n      <td>34.8</td>\n      <td>21.9</td>\n      <td>27.3</td>\n      <td>14.0</td>\n    </tr>\n    <tr>\n      <th>5</th>\n      <td>4.8</td>\n      <td>49.8</td>\n      <td>42.7</td>\n      <td>52.0</td>\n      <td>37.8</td>\n      <td>12.9</td>\n      <td>1.2</td>\n      <td>...</td>\n      <td>86.0</td>\n      <td>58.1</td>\n      <td>56.7</td>\n      <td>56.7</td>\n      <td>3.0</td>\n      <td>8.4</td>\n      <td>16.5</td>\n    </tr>\n    <tr>\n      <th>6</th>\n      <td>43.3</td>\n      <td>27.1</td>\n      <td>24.2</td>\n      <td>24.6</td>\n      <td>25.8</td>\n      <td>36.2</td>\n      <td>42.9</td>\n      <td>...</td>\n      <td>80.0</td>\n      <td>52.1</td>\n      <td>50.7</td>\n      <td>50.7</td>\n      <td>41.5</td>\n      <td>46.9</td>\n      <td>33.6</td>\n    </tr>\n    <tr>\n      <th>7</th>\n      <td>25.2</td>\n      <td>29.4</td>\n      <td>21.0</td>\n      <td>30.3</td>\n      <td>16.1</td>\n      <td>18.1</td>\n      <td>24.8</td>\n      <td>...</td>\n      <td>60.8</td>\n      <td>32.9</td>\n      <td>31.5</td>\n      <td>31.5</td>\n      <td>23.4</td>\n      <td>28.8</td>\n      <td>15.5</td>\n    </tr>\n    <tr>\n      <th>8</th>\n      <td>33.6</td>\n      <td>36.9</td>\n      <td>28.5</td>\n      <td>37.8</td>\n      <td>23.6</td>\n      <td>26.5</td>\n      <td>33.2</td>\n      <td>...</td>\n      <td>60.9</td>\n      <td>41.2</td>\n      <td>39.8</td>\n      <td>39.8</td>\n      <td>31.8</td>\n      <td>37.2</td>\n      <td>23.9</td>\n    </tr>\n  </tbody>\n</table>\n<p>9 rows × 6166 columns</p>\n</div>"
     },
     "metadata": {},
     "output_type": "display_data"
    }
   ],
   "source": [
    "from src.objectnat import get_adjacency_matrix\n",
    "import networkx as nx\n",
    "import geopandas as gpd\n",
    "import pandas as pd\n",
    "from IPython.display import display\n",
    "pd.set_option('display.max_columns',15)\n",
    "\n",
    "nx_graph = nx.read_graphml(\"examples_data/taraIntermodal.graphml\")  # Data inside the file is in the local CRS EPSG:32643\n",
    "buildings = gpd.read_file(\"examples_data/tara_buildings.geojson\")  # Data inside the file is in the global CRS EPSG:4326\n",
    "services = gpd.read_file(\"examples_data/tara_kinder.geojson\")  # Data inside the file is in the global CRS EPSG:4326\n",
    "matrix: pd.DataFrame = get_adjacency_matrix(buildings_from=buildings,\n",
    "                              services_to=services,\n",
    "                              nx_graph=nx_graph,\n",
    "                              weight=\"time_min\",  # weight  could be only \"time_min\" or \"length_meter\"\n",
    "                              city_crs=32643)  # CRS is explicitly specified \n",
    "display(matrix)"
   ],
   "metadata": {
    "collapsed": false,
    "ExecuteTime": {
     "end_time": "2024-03-07T13:24:18.294133400Z",
     "start_time": "2024-03-07T13:24:14.873928500Z"
    }
   },
   "id": "initial_id"
  },
  {
   "cell_type": "code",
   "execution_count": 2,
   "outputs": [
    {
     "name": "stderr",
     "output_type": "stream",
     "text": [
      "\u001B[32m2024-03-07 16:24:18.295\u001B[0m | \u001B[1mINFO    \u001B[0m | \u001B[36mdongraphio.dongraphio\u001B[0m:\u001B[36mget_adjacency_matrix\u001B[0m:\u001B[36m85\u001B[0m - \u001B[1mCreating adjacency matrix based on provided graph...\u001B[0m\n",
      "\u001B[32m2024-03-07 16:24:18.511\u001B[0m | \u001B[34m\u001B[1mDEBUG   \u001B[0m | \u001B[36mdongraphio.base_models\u001B[0m:\u001B[36mget_adjacency_matrix\u001B[0m:\u001B[36m92\u001B[0m - \u001B[34m\u001B[1mCalculating distances from buildings to services ...\u001B[0m\n",
      "\u001B[32m2024-03-07 16:24:18.525\u001B[0m | \u001B[1mINFO    \u001B[0m | \u001B[36mdongraphio.dongraphio\u001B[0m:\u001B[36mget_adjacency_matrix\u001B[0m:\u001B[36m93\u001B[0m - \u001B[1mAdjacency matrix done!\u001B[0m\n"
     ]
    },
    {
     "data": {
      "text/plain": "building_id  1721225  1721201  1721203  1721204  1721214  1721222  1721223  \\\nservice_id                                                                   \n1407512         47.0     33.7     27.9     31.2     29.5     39.9     46.6   \n1407507         30.9     28.8     20.4     28.0     15.4     23.8     30.5   \n1407513         30.3     18.9      9.6     16.4     12.1     23.2     29.9   \n1407505         40.3     25.0     20.6     22.5     22.2     33.2     39.9   \n1407511         23.7     14.3      6.7     16.0      0.0     16.6     23.3   \n1407508          4.8     49.8     42.7     52.0     37.8     12.9      1.2   \n1407510         43.3     27.1     24.2     24.6     25.8     36.2     42.9   \n1407506         25.2     29.4     21.0     30.3     16.1     18.1     24.8   \n1407509         33.6     36.9     28.5     37.8     23.6     26.5     33.2   \n\nbuilding_id  ...  1730545  1730546  1730547  1730548  1721226  1721227  \\\nservice_id   ...                                                         \n1407512      ...     83.4     55.5     54.1     54.1     45.2     50.6   \n1407507      ...     67.6     39.7     38.3     38.3     29.1     34.5   \n1407513      ...     66.8     38.9     37.5     37.5     28.5     33.9   \n1407505      ...     76.8     48.9     47.5     47.5     38.5     43.9   \n1407511      ...     64.1     36.2     34.8     34.8     21.9     27.3   \n1407508      ...     86.0     58.1     56.7     56.7      3.0      8.4   \n1407510      ...     80.0     52.1     50.7     50.7     41.5     46.9   \n1407506      ...     60.8     32.9     31.5     31.5     23.4     28.8   \n1407509      ...     60.9     41.2     39.8     39.8     31.8     37.2   \n\nbuilding_id  1721245  \nservice_id            \n1407512         37.3  \n1407507         21.2  \n1407513         20.6  \n1407505         30.6  \n1407511         14.0  \n1407508         16.5  \n1407510         33.6  \n1407506         15.5  \n1407509         23.9  \n\n[9 rows x 6166 columns]",
      "text/html": "<div>\n<style scoped>\n    .dataframe tbody tr th:only-of-type {\n        vertical-align: middle;\n    }\n\n    .dataframe tbody tr th {\n        vertical-align: top;\n    }\n\n    .dataframe thead th {\n        text-align: right;\n    }\n</style>\n<table border=\"1\" class=\"dataframe\">\n  <thead>\n    <tr style=\"text-align: right;\">\n      <th>building_id</th>\n      <th>1721225</th>\n      <th>1721201</th>\n      <th>1721203</th>\n      <th>1721204</th>\n      <th>1721214</th>\n      <th>1721222</th>\n      <th>1721223</th>\n      <th>...</th>\n      <th>1730545</th>\n      <th>1730546</th>\n      <th>1730547</th>\n      <th>1730548</th>\n      <th>1721226</th>\n      <th>1721227</th>\n      <th>1721245</th>\n    </tr>\n    <tr>\n      <th>service_id</th>\n      <th></th>\n      <th></th>\n      <th></th>\n      <th></th>\n      <th></th>\n      <th></th>\n      <th></th>\n      <th></th>\n      <th></th>\n      <th></th>\n      <th></th>\n      <th></th>\n      <th></th>\n      <th></th>\n      <th></th>\n    </tr>\n  </thead>\n  <tbody>\n    <tr>\n      <th>1407512</th>\n      <td>47.0</td>\n      <td>33.7</td>\n      <td>27.9</td>\n      <td>31.2</td>\n      <td>29.5</td>\n      <td>39.9</td>\n      <td>46.6</td>\n      <td>...</td>\n      <td>83.4</td>\n      <td>55.5</td>\n      <td>54.1</td>\n      <td>54.1</td>\n      <td>45.2</td>\n      <td>50.6</td>\n      <td>37.3</td>\n    </tr>\n    <tr>\n      <th>1407507</th>\n      <td>30.9</td>\n      <td>28.8</td>\n      <td>20.4</td>\n      <td>28.0</td>\n      <td>15.4</td>\n      <td>23.8</td>\n      <td>30.5</td>\n      <td>...</td>\n      <td>67.6</td>\n      <td>39.7</td>\n      <td>38.3</td>\n      <td>38.3</td>\n      <td>29.1</td>\n      <td>34.5</td>\n      <td>21.2</td>\n    </tr>\n    <tr>\n      <th>1407513</th>\n      <td>30.3</td>\n      <td>18.9</td>\n      <td>9.6</td>\n      <td>16.4</td>\n      <td>12.1</td>\n      <td>23.2</td>\n      <td>29.9</td>\n      <td>...</td>\n      <td>66.8</td>\n      <td>38.9</td>\n      <td>37.5</td>\n      <td>37.5</td>\n      <td>28.5</td>\n      <td>33.9</td>\n      <td>20.6</td>\n    </tr>\n    <tr>\n      <th>1407505</th>\n      <td>40.3</td>\n      <td>25.0</td>\n      <td>20.6</td>\n      <td>22.5</td>\n      <td>22.2</td>\n      <td>33.2</td>\n      <td>39.9</td>\n      <td>...</td>\n      <td>76.8</td>\n      <td>48.9</td>\n      <td>47.5</td>\n      <td>47.5</td>\n      <td>38.5</td>\n      <td>43.9</td>\n      <td>30.6</td>\n    </tr>\n    <tr>\n      <th>1407511</th>\n      <td>23.7</td>\n      <td>14.3</td>\n      <td>6.7</td>\n      <td>16.0</td>\n      <td>0.0</td>\n      <td>16.6</td>\n      <td>23.3</td>\n      <td>...</td>\n      <td>64.1</td>\n      <td>36.2</td>\n      <td>34.8</td>\n      <td>34.8</td>\n      <td>21.9</td>\n      <td>27.3</td>\n      <td>14.0</td>\n    </tr>\n    <tr>\n      <th>1407508</th>\n      <td>4.8</td>\n      <td>49.8</td>\n      <td>42.7</td>\n      <td>52.0</td>\n      <td>37.8</td>\n      <td>12.9</td>\n      <td>1.2</td>\n      <td>...</td>\n      <td>86.0</td>\n      <td>58.1</td>\n      <td>56.7</td>\n      <td>56.7</td>\n      <td>3.0</td>\n      <td>8.4</td>\n      <td>16.5</td>\n    </tr>\n    <tr>\n      <th>1407510</th>\n      <td>43.3</td>\n      <td>27.1</td>\n      <td>24.2</td>\n      <td>24.6</td>\n      <td>25.8</td>\n      <td>36.2</td>\n      <td>42.9</td>\n      <td>...</td>\n      <td>80.0</td>\n      <td>52.1</td>\n      <td>50.7</td>\n      <td>50.7</td>\n      <td>41.5</td>\n      <td>46.9</td>\n      <td>33.6</td>\n    </tr>\n    <tr>\n      <th>1407506</th>\n      <td>25.2</td>\n      <td>29.4</td>\n      <td>21.0</td>\n      <td>30.3</td>\n      <td>16.1</td>\n      <td>18.1</td>\n      <td>24.8</td>\n      <td>...</td>\n      <td>60.8</td>\n      <td>32.9</td>\n      <td>31.5</td>\n      <td>31.5</td>\n      <td>23.4</td>\n      <td>28.8</td>\n      <td>15.5</td>\n    </tr>\n    <tr>\n      <th>1407509</th>\n      <td>33.6</td>\n      <td>36.9</td>\n      <td>28.5</td>\n      <td>37.8</td>\n      <td>23.6</td>\n      <td>26.5</td>\n      <td>33.2</td>\n      <td>...</td>\n      <td>60.9</td>\n      <td>41.2</td>\n      <td>39.8</td>\n      <td>39.8</td>\n      <td>31.8</td>\n      <td>37.2</td>\n      <td>23.9</td>\n    </tr>\n  </tbody>\n</table>\n<p>9 rows × 6166 columns</p>\n</div>"
     },
     "metadata": {},
     "output_type": "display_data"
    }
   ],
   "source": [
    "buildings.index = buildings[\"building_id\"] # Set unique id attribute as DataFrame indexes, if you have one\n",
    "services.index = services[\"service_id\"]\n",
    "matrix = get_adjacency_matrix(buildings_from=buildings,\n",
    "                              services_to=services,\n",
    "                              nx_graph=nx_graph,\n",
    "                              weight=\"time_min\",  # Weight  could be only \"time_min\" or \"length_meter\"\n",
    "                              city_crs=32643)\n",
    "display(matrix)"
   ],
   "metadata": {
    "collapsed": false,
    "ExecuteTime": {
     "end_time": "2024-03-07T13:24:18.541199900Z",
     "start_time": "2024-03-07T13:24:18.294133400Z"
    }
   },
   "id": "8524965d30633346"
  },
  {
   "cell_type": "code",
   "execution_count": 4,
   "outputs": [],
   "source": [
    "matrix.to_csv(\"examples_data/adjacency_matrix.csv\") #index=False to get rid of unnamed column"
   ],
   "metadata": {
    "collapsed": false,
    "ExecuteTime": {
     "end_time": "2024-03-07T13:37:04.370314800Z",
     "start_time": "2024-03-07T13:37:04.318671400Z"
    }
   },
   "id": "25d68a0a7d399b52"
  },
  {
   "cell_type": "code",
   "execution_count": null,
   "outputs": [],
   "source": [],
   "metadata": {
    "collapsed": false
   },
   "id": "873912fe3123d49f"
  }
 ],
 "metadata": {
  "kernelspec": {
   "display_name": "Python 3",
   "language": "python",
   "name": "python3"
  },
  "language_info": {
   "codemirror_mode": {
    "name": "ipython",
    "version": 2
   },
   "file_extension": ".py",
   "mimetype": "text/x-python",
   "name": "python",
   "nbconvert_exporter": "python",
   "pygments_lexer": "ipython2",
   "version": "2.7.6"
  }
 },
 "nbformat": 4,
 "nbformat_minor": 5
}
