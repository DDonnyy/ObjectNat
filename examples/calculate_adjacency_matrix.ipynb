{
 "cells": [
  {
   "cell_type": "markdown",
   "source": [
    "Intermodal nx_graph can be loaded from OSM [example](graph_generator.ipynb)"
   ],
   "metadata": {
    "collapsed": false
   },
   "id": "d10ecffbbb244aa7"
  },
  {
   "cell_type": "code",
   "execution_count": null,
   "source": [
    "from objectnat import get_adjacency_matrix, get_intermodal_graph_from_osm, GraphType\n",
    "import networkx as nx\n",
    "import geopandas as gpd\n",
    "import pandas as pd\n",
    "from IPython.display import display\n",
    "\n",
    "pd.set_option('display.max_columns', 15)\n",
    "\n",
    "nx_graph = get_intermodal_graph_from_osm(city_osm_id=7226665, city_crs=32643)\n",
    "buildings = gpd.read_file(\"examples_data/tara_buildings.geojson\")  # Data inside the file is in the global CRS EPSG:4326\n",
    "services = gpd.read_file(\"examples_data/tara_kinder.geojson\")  # Data inside the file is in the global CRS EPSG:4326\n",
    "matrix: pd.DataFrame = get_adjacency_matrix(buildings_from=buildings,\n",
    "                                            services_to=services,\n",
    "                                            nx_graph=nx_graph,\n",
    "                                            weight=\"time_min\",  # weight  could be only \"time_min\" or \"length_meter\"\n",
    "                                            city_crs=32643,\n",
    "                                            graph_type=[GraphType.DRIVE])  # CRS is explicitly specified \n",
    "display(matrix)"
   ],
   "metadata": {
    "collapsed": false,
    "is_executing": true,
    "ExecuteTime": {
     "start_time": "2024-05-19T15:45:05.306882500Z"
    }
   },
   "id": "initial_id",
   "outputs": []
  },
  {
   "cell_type": "code",
   "execution_count": 2,
   "source": [
    "matrix.to_csv(\"examples_data/adjacency_matrix.csv\", index=False)"
   ],
   "metadata": {
    "collapsed": false,
    "ExecuteTime": {
     "end_time": "2024-05-19T15:44:09.348180200Z",
     "start_time": "2024-05-19T15:44:09.245055300Z"
    }
   },
   "id": "25d68a0a7d399b52",
   "outputs": []
  },
  {
   "cell_type": "code",
   "execution_count": null,
   "source": [],
   "metadata": {
    "collapsed": false
   },
   "id": "a079f8317509da53",
   "outputs": []
  }
 ],
 "metadata": {
  "kernelspec": {
   "display_name": "Python 3",
   "language": "python",
   "name": "python3"
  },
  "language_info": {
   "codemirror_mode": {
    "name": "ipython",
    "version": 2
   },
   "file_extension": ".py",
   "mimetype": "text/x-python",
   "name": "python",
   "nbconvert_exporter": "python",
   "pygments_lexer": "ipython2",
   "version": "2.7.6"
  }
 },
 "nbformat": 4,
 "nbformat_minor": 5
}
