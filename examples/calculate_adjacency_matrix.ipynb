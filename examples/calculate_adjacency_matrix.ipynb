{
 "cells": [
  {
   "metadata": {},
   "cell_type": "code",
   "source": [
    "!pip install objectnat\n",
    "# Installing the 'objectnat' library which provides functions for working with multimodal graphs and adjacency matrices"
   ],
   "id": "17a84d805c555bb1",
   "outputs": [],
   "execution_count": null
  },
  {
   "metadata": {},
   "cell_type": "code",
   "source": [
    "!pip install pyarrow \n",
    "# Installing 'pyarrow' to read and write .parquet files, a columnar storage file format."
   ],
   "id": "69767f09c4e20671",
   "outputs": [],
   "execution_count": null
  },
  {
   "cell_type": "code",
   "source": [
    "from objectnat import get_adj_matrix_gdf_to_gdf, get_intermodal_graph\n",
    "import geopandas as gpd\n",
    "import pandas as pd\n",
    "from shapely.ops import unary_union\n",
    "\n",
    "# Importing necessary libraries:\n",
    "# - 'objectnat' provides the graph and adjacency matrix calculation tools\n",
    "# - 'geopandas' for handling geospatial data\n",
    "# - 'pandas' for working with tabular data\n",
    "# - 'shapely.ops.unary_union' to combine geometries\n",
    "\n",
    "buildings = gpd.read_parquet('examples_data/buildings.parquet')\n",
    "services = gpd.read_parquet('examples_data/services.parquet')\n",
    "# Reading the building and service data from .parquet files into GeoDataFrames\n",
    "\n",
    "polygon = unary_union([buildings.geometry.to_list() + services.geometry.to_list()]).convex_hull.buffer(\n",
    "    0.001)\n",
    "# Creating a union of all building and service geometries.\n",
    "# Then generating a convex hull around these geometries and buffering it slightly (0.001 units) \n",
    "# to create an encircling polygon that encompasses the data for later use.\n",
    "\n",
    "G_intermodal = get_intermodal_graph(polygon=polygon, clip_by_bounds=True)\n",
    "# Using the encircling polygon to download and clip an intermodal transportation network graph\n",
    "# 'get_intermodal_graph' fetches a multimodal graph (e.g., walking, public transport) within the given polygon bounds\n",
    "# you can also use your custom polygon or osm_id of the territory\n",
    "\n",
    "buildings.to_crs(G_intermodal.graph['crs'], inplace=True)\n",
    "services.to_crs(G_intermodal.graph['crs'], inplace=True)\n",
    "# Reprojecting the 'buildings' and 'services' GeoDataFrames to match the coordinate reference system (CRS) of the graph"
   ],
   "metadata": {
    "collapsed": false
   },
   "id": "initial_id",
   "outputs": [],
   "execution_count": null
  },
  {
   "metadata": {},
   "cell_type": "code",
   "source": [
    "matrix: pd.DataFrame = get_adj_matrix_gdf_to_gdf(gdf_from=buildings,\n",
    "                                                 gdf_to=services,\n",
    "                                                 nx_graph=G_intermodal,\n",
    "                                                 weight=\"time_min\",\n",
    "                                                 )\n",
    "# Creating an adjacency matrix that shows the shortest travel time in minutes ('time_min')\n",
    "# between each building and service, based on the intermodal graph.\n",
    "# 'get_adj_matrix_gdf_to_gdf' takes the buildings (gdf_from), services (gdf_to),\n",
    "# and the graph (nx_graph) and calculates travel times as edge weights."
   ],
   "id": "f763ed1656707714",
   "outputs": [],
   "execution_count": null
  },
  {
   "cell_type": "code",
   "source": [
    "matrix.to_parquet('examples_data/matrix_time.parquet')\n",
    "# Saving the resulting adjacency matrix to a .parquet file for future use."
   ],
   "metadata": {},
   "id": "371f4607ed8ec9c9",
   "outputs": [],
   "execution_count": null
  }
 ],
 "metadata": {
  "kernelspec": {
   "display_name": "Python 3",
   "language": "python",
   "name": "python3"
  },
  "language_info": {
   "codemirror_mode": {
    "name": "ipython",
    "version": 2
   },
   "file_extension": ".py",
   "mimetype": "text/x-python",
   "name": "python",
   "nbconvert_exporter": "python",
   "pygments_lexer": "ipython2",
   "version": "2.7.6"
  }
 },
 "nbformat": 4,
 "nbformat_minor": 5
}
