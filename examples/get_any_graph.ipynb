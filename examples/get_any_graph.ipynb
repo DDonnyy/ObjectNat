{
 "cells": [
  {
   "metadata": {},
   "cell_type": "markdown",
   "source": "### Functions provided by IduEdu lib",
   "id": "7a68e2f80b601e8b"
  },
  {
   "cell_type": "code",
   "id": "initial_id",
   "metadata": {
    "collapsed": true
   },
   "source": [
    "# Get territory boundary\n",
    "from objectnat import get_boundary\n",
    "\n",
    "# Fetching the territory boundary using the OSM ID for the specific relation.\n",
    "# The OSM ID refers to a particular area on OpenStreetMap.\n",
    "bounds = get_boundary(osm_id=1114252)  # OSM ID for https://www.openstreetmap.org/relation/1114252"
   ],
   "outputs": [],
   "execution_count": null
  },
  {
   "metadata": {},
   "cell_type": "code",
   "source": [
    "# Get drive_graph for boundary\n",
    "from objectnat import get_drive_graph\n",
    "\n",
    "# Creating a driving graph for the specified boundary.\n",
    "# Additional edge data attributes can be included in the graph, such as 'highway', 'maxspeed', 'reg', 'ref', and 'name'.\n",
    "G_drive = get_drive_graph(polygon=bounds, additional_edgedata=['highway', 'maxspeed', 'reg', 'ref',\n",
    "                                                               'name'])"
   ],
   "id": "dd472c90ac4da1fe",
   "outputs": [],
   "execution_count": null
  },
  {
   "metadata": {},
   "cell_type": "code",
   "source": [
    "# Get walk_graph for boundary\n",
    "from objectnat import get_walk_graph\n",
    "\n",
    "# Generating a walking graph for the defined boundary.\n",
    "G_walk = get_walk_graph(polygon=bounds)"
   ],
   "id": "a4c8518430e9bf5a",
   "outputs": [],
   "execution_count": null
  },
  {
   "metadata": {},
   "cell_type": "code",
   "source": [
    "# Get single or multi type public transport graph for boundary\n",
    "from objectnat import get_single_public_transport_graph, get_all_public_transport_graph\n",
    "\n",
    "# Fetching a public transport graph specifically for the subway within the defined boundary.\n",
    "G_subway = get_single_public_transport_graph(public_transport_type='subway', polygon=bounds)\n",
    "\n",
    "# Setting 'clip_by_bounds' to True to remove all nodes outside the bounds, and 'keep_geometry' to False to minimize graph size by not saving real geometries.\n",
    "G_public_t = get_all_public_transport_graph(polygon=bounds, clip_by_bounds=True,\n",
    "                                            keep_geometry=False)"
   ],
   "id": "3c6eb28889cd1c9f",
   "outputs": [],
   "execution_count": null
  },
  {
   "metadata": {},
   "cell_type": "code",
   "source": [
    "# Get intermodal_graph (walk+all_public_transport) for boundary\n",
    "from objectnat import get_intermodal_graph\n",
    "\n",
    "# Creating an intermodal graph that combines walking and all public transport for the specified boundary.\n",
    "# The 'clip_by_bounds' option is set to False to include all nodes, and 'max_dist' defines the maximum distance for connections.\n",
    "G_intermodal = get_intermodal_graph(polygon=bounds, clip_by_bounds=False, max_dist=50)"
   ],
   "id": "1646ccaf6c466324",
   "outputs": [],
   "execution_count": null
  },
  {
   "metadata": {},
   "cell_type": "code",
   "source": [
    "from objectnat import join_pt_walk_graph\n",
    "\n",
    "# Joining the subway public transport graph with the walking graph.\n",
    "# This creates a combined graph that allows for seamless transitions between public transport and walking paths.\n",
    "G_walk_and_subway = join_pt_walk_graph(G_subway, G_walk)"
   ],
   "id": "3a1fe70b33465188",
   "outputs": [],
   "execution_count": null
  }
 ],
 "metadata": {
  "kernelspec": {
   "display_name": "Python 3",
   "language": "python",
   "name": "python3"
  },
  "language_info": {
   "codemirror_mode": {
    "name": "ipython",
    "version": 2
   },
   "file_extension": ".py",
   "mimetype": "text/x-python",
   "name": "python",
   "nbconvert_exporter": "python",
   "pygments_lexer": "ipython2",
   "version": "2.7.6"
  }
 },
 "nbformat": 4,
 "nbformat_minor": 5
}
