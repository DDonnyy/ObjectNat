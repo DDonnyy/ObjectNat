{
 "cells": [
  {
   "metadata": {},
   "cell_type": "markdown",
   "source": [
    "## Calculate visibilty from single point"
   ],
   "id": "f4c531a4c9e094ec"
  },
  {
   "metadata": {},
   "cell_type": "code",
   "source": [
    "from objectnat import get_visibility_accurate, get_visibility\n",
    "import geopandas as gpd\n",
    "from shapely.geometry import Point\n",
    "\n",
    "obstacles = gpd.read_parquet('examples_data/buildings.parquet').to_crs(32636)\n",
    "result1 = get_visibility(Point(348065, 6647674), obstacles,\n",
    "                         500)  # it works faster, but \"looks behind buildings\" and does not pass through bottlenecks\n",
    "result1 = gpd.GeoDataFrame(geometry=[result1], crs=32636)\n",
    "result2 = get_visibility_accurate(Point(348065, 6647674), obstacles,\n",
    "                                  500)  # it works as accurately as possible, but is less productive\n",
    "result2 = gpd.GeoDataFrame(geometry=[result2], crs=32636)\n",
    "\n",
    "\n",
    "m1 = obstacles.explore(color='pink',tiles='CartoDB positron')\n",
    "result2.explore(m=m1,color='blue')\n",
    "\n",
    "# result1.explore(m=m1, color='red')  # check the dif\n",
    "gpd.GeoDataFrame(geometry=[Point(348065, 6647674)],crs=32636).explore(m=m1,color='purple')"
   ],
   "id": "4823f58f4e9afe6b",
   "execution_count": null,
   "outputs": []
  },
  {
   "metadata": {},
   "cell_type": "markdown",
   "source": [
    "## Calculate visibilty from multiple points (multiproseccing)"
   ],
   "id": "e1b243c10ab80704"
  },
  {
   "metadata": {},
   "cell_type": "code",
   "source": [
    "from objectnat import get_visibilities_from_points\n",
    "import geopandas as gpd\n",
    "from shapely.geometry import Point\n",
    "\n",
    "obstacles = gpd.read_parquet('examples_data/buildings.parquet').to_crs(32636)\n",
    "points = gpd.GeoDataFrame(geometry=[Point(348055, 6647684), Point(348175, 6647674), Point(348035, 6647634)], crs=32636)\n",
    "result = get_visibilities_from_points(points, obstacles, 500)\n",
    "gpd.GeoDataFrame(geometry=result, crs=32636).explore()"
   ],
   "id": "82bab1238ec83288",
   "execution_count": null,
   "outputs": []
  },
  {
   "metadata": {},
   "cell_type": "markdown",
   "source": [
    "## Calculate visibility catchment area (multiproseccing)"
   ],
   "id": "f9aff770aa8f63bb"
  },
  {
   "cell_type": "code",
   "id": "initial_id",
   "metadata": {
    "collapsed": true
   },
   "source": [
    "\n",
    "import pandas as pd\n",
    "import geopandas as gpd\n",
    "from objectnat.methods.visibility_analysis import calculate_visibility_catchment_area\n",
    "\n",
    "# Use any data you want\n",
    "\n",
    "builds = gpd.read_file('builds.geojson').to_crs(32636)\n",
    "points = gpd.read_file('distributed_points.geojson').to_crs(32636)\n",
    "woods = gpd.read_file('woods.geojson').to_crs(32636)\n",
    "bridges = gpd.read_file('bridges.geojson').to_crs(32636)\n",
    "\n",
    "view_dist = 1000\n",
    "\n",
    "obstacles = gpd.GeoDataFrame(pd.concat([builds, woods, bridges], ignore_index=True), geometry='geometry',\n",
    "                             crs=32636)\n",
    "res = calculate_visibility_catchment_area(points, obstacles, view_dist)"
   ],
   "execution_count": null,
   "outputs": []
  },
  {
   "metadata": {},
   "cell_type": "code",
   "source": [
    "res.explore(\n",
    "    column=\"factor_normalized\",\n",
    "    categorical=False,\n",
    "    cmap=\"plasma\",\n",
    "    legend=True,\n",
    ")\n"
   ],
   "id": "4485c645267fa0ea",
   "execution_count": null,
   "outputs": []
  }
 ],
 "metadata": {
  "kernelspec": {
   "display_name": "Python 3",
   "language": "python",
   "name": "python3"
  },
  "language_info": {
   "codemirror_mode": {
    "name": "ipython",
    "version": 2
   },
   "file_extension": ".py",
   "mimetype": "text/x-python",
   "name": "python",
   "nbconvert_exporter": "python",
   "pygments_lexer": "ipython2",
   "version": "2.7.6"
  }
 },
 "nbformat": 4,
 "nbformat_minor": 5
}
