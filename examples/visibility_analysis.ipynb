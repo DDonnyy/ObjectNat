{
 "cells": [
  {
   "metadata": {},
   "cell_type": "markdown",
   "source": [
    "## Calculate visibilty from single point"
   ],
   "id": "f4c531a4c9e094ec"
  },
  {
   "metadata": {},
   "cell_type": "code",
   "source": [
    "from objectnat import get_visibility_accurate, get_visibility\n",
    "import geopandas as gpd\n",
    "from shapely.geometry import Point\n",
    "\n",
    "# Importing necessary libraries:\n",
    "# - 'get_visibility_accurate' and 'get_visibility' from 'objectnat' to compute visibility.\n",
    "# - 'geopandas' for working with geospatial data.\n",
    "# - 'Point' from 'shapely.geometry' to define the viewpoint.\n",
    "\n",
    "obstacles = gpd.read_parquet('examples_data/buildings.parquet').to_crs(32636)\n",
    "# Loading building data from a .parquet file and reprojecting to the local coordinate system (EPSG:32636).\n",
    "\n",
    "result1 = get_visibility(Point(348065, 6647674), obstacles, 500)\n",
    "# Calculating visibility from a point (348065, 6647674) with a view radius of 500 units. \n",
    "# This method is faster but may \"see behind buildings\" and ignore certain occlusions.\n",
    "\n",
    "result1 = gpd.GeoDataFrame(geometry=[result1], crs=32636)\n",
    "# Converting the result of visibility analysis into a GeoDataFrame for easier manipulation and visualization.\n",
    "\n",
    "result2 = get_visibility_accurate(Point(348065, 6647674), obstacles, 500)\n",
    "# Calculating visibility using a more accurate method, which takes into account occlusions and bottlenecks,\n",
    "# but at the cost of computational performance.\n",
    "\n",
    "result2 = gpd.GeoDataFrame(geometry=[result2], crs=32636)\n",
    "# Converting the accurate visibility result into a GeoDataFrame.\n",
    "\n",
    "m1 = obstacles.explore(color='pink', tiles='CartoDB positron')\n",
    "# Visualizing the obstacles (buildings) on an interactive map.\n",
    "result2.explore(m=m1, color='blue')\n",
    "# Overlaying the accurate visibility result (in blue) on the map with obstacles.\n",
    "\n",
    "# result1.explore(m=m1, color='red')  # Uncomment this line to compare the faster method result (in red).\n",
    "\n",
    "gpd.GeoDataFrame(geometry=[Point(348065, 6647674)], crs=32636).explore(m=m1, color='purple')\n",
    "# Adding the viewpoint location (in purple) to the map for reference."
   ],
   "id": "4823f58f4e9afe6b",
   "outputs": [],
   "execution_count": null
  },
  {
   "metadata": {},
   "cell_type": "markdown",
   "source": [
    "## Calculate visibilty from multiple points (multiproseccing)"
   ],
   "id": "e1b243c10ab80704"
  },
  {
   "metadata": {},
   "cell_type": "code",
   "source": [
    "from objectnat import get_visibilities_from_points\n",
    "import geopandas as gpd\n",
    "from shapely.geometry import Point\n",
    "\n",
    "# Importing 'get_visibilities_from_points' from 'objectnat' to calculate visibility from multiple points using multiprocessing.\n",
    "\n",
    "obstacles = gpd.read_parquet('examples_data/buildings.parquet').to_crs(32636)\n",
    "# Loading building data and reprojecting to the local coordinate system (EPSG:32636).\n",
    "\n",
    "points = gpd.GeoDataFrame(geometry=[Point(348055, 6647684), Point(348175, 6647674), Point(348035, 6647634)], crs=32636)\n",
    "# Defining multiple points from which visibility will be calculated.\n",
    "\n",
    "result = get_visibilities_from_points(points, obstacles, 500)\n",
    "# Calculating visibility from each point in the 'points' GeoDataFrame with a view distance of 500 units.\n",
    "# This method uses multiprocessing for better performance when dealing with multiple points.\n",
    "\n",
    "gpd.GeoDataFrame(geometry=result, crs=32636).explore()"
   ],
   "id": "82bab1238ec83288",
   "outputs": [],
   "execution_count": null
  },
  {
   "metadata": {},
   "cell_type": "markdown",
   "source": [
    "## Calculate visibility catchment area (multiproseccing)"
   ],
   "id": "f9aff770aa8f63bb"
  },
  {
   "cell_type": "code",
   "id": "initial_id",
   "metadata": {
    "collapsed": true
   },
   "source": [
    "\n",
    "import pandas as pd\n",
    "import geopandas as gpd\n",
    "from objectnat.methods.visibility_analysis import calculate_visibility_catchment_area\n",
    "\n",
    "# Load data for buildings, points, woods, and bridges\n",
    "builds = gpd.read_file('builds.geojson').to_crs(32636)\n",
    "points = gpd.read_file('distributed_points.geojson').to_crs(32636)\n",
    "woods = gpd.read_file('woods.geojson').to_crs(32636)\n",
    "bridges = gpd.read_file('bridges.geojson').to_crs(32636)\n",
    "\n",
    "view_dist = 1000\n",
    "# Setting the visibility distance (catchment radius) to 1000 units.\n",
    "\n",
    "obstacles = gpd.GeoDataFrame(pd.concat([builds, woods, bridges], ignore_index=True), geometry='geometry',\n",
    "                             crs=32636)\n",
    "# Combining the GeoDataFrames for buildings, woods, and bridges into a single GeoDataFrame that serves as obstacles \n",
    "# to be considered in the visibility calculation.\n",
    "\n",
    "res = calculate_visibility_catchment_area(points, obstacles, view_dist)\n",
    "# Calculating the visibility catchment area for the given points, considering the obstacles and the view distance.\n",
    "# The result is a GeoDataFrame containing the catchment areas."
   ],
   "outputs": [],
   "execution_count": null
  },
  {
   "metadata": {},
   "cell_type": "code",
   "source": [
    "res.explore(\n",
    "    column=\"factor_normalized\",\n",
    "    categorical=False,\n",
    "    cmap=\"plasma\",\n",
    "    legend=True,\n",
    ")\n",
    "# Visualizing the catchment areas on an interactive map, using the 'factor_normalized' column to color the areas\n",
    "# with a 'plasma' colormap. A legend is displayed to show the range of values."
   ],
   "id": "4485c645267fa0ea",
   "outputs": [],
   "execution_count": null
  }
 ],
 "metadata": {
  "kernelspec": {
   "display_name": "Python 3",
   "language": "python",
   "name": "python3"
  },
  "language_info": {
   "codemirror_mode": {
    "name": "ipython",
    "version": 2
   },
   "file_extension": ".py",
   "mimetype": "text/x-python",
   "name": "python",
   "nbconvert_exporter": "python",
   "pygments_lexer": "ipython2",
   "version": "2.7.6"
  }
 },
 "nbformat": 4,
 "nbformat_minor": 5
}
