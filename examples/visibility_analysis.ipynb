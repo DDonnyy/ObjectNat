{
 "cells": [
  {
   "cell_type": "code",
   "execution_count": null,
   "id": "initial_id",
   "metadata": {
    "collapsed": true
   },
   "outputs": [],
   "source": [
    ""
   ]
  },
  {
   "metadata": {
    "ExecuteTime": {
     "end_time": "2024-05-08T15:47:31.452129Z",
     "start_time": "2024-05-08T15:47:30.698277Z"
    }
   },
   "cell_type": "code",
   "source": [
    "from shapely import Point, LineString, Polygon\n",
    "import geopandas as gpd\n",
    "\n",
    "test = None\n",
    "\n",
    "def get_visibility_result(point, buildings, view_distance):\n",
    "    global test\n",
    "    crs = buildings.crs\n",
    "    point_buffer = Point(point).buffer(view_distance,resolution=64)\n",
    "    \n",
    "    s = buildings.within(point_buffer)\n",
    "    \n",
    "    buildings_in_buffer = buildings.loc[s[s].index].reset_index(drop=True)\n",
    "    \n",
    "    test1 = [Point(geom.exterior.coords) for geom in buildings_in_buffer.geometry.unary_union.geoms]\n",
    "    print(test1)\n",
    "    buffer_exterior_ = list(point_buffer.exterior.coords)\n",
    "    line_geometry = [LineString([point, ext]) for ext in buffer_exterior_]\n",
    "    buffer_lines_gdf = gpd.GeoDataFrame(geometry=line_geometry,crs=crs)\n",
    "    \n",
    "    united_buildings = buildings_in_buffer.unary_union\n",
    "\n",
    "    if united_buildings:\n",
    "        splited_lines = buffer_lines_gdf['geometry'].apply(lambda x: x.difference(united_buildings))\n",
    "    else:\n",
    "        splited_lines = buffer_lines_gdf[\"geometry\"]\n",
    "    \n",
    "    splited_lines_gdf = gpd.GeoDataFrame(geometry=splited_lines).explode(index_parts=True)\n",
    "    \n",
    "    splited_lines_list = []\n",
    "\n",
    "    for u, v in splited_lines_gdf.groupby(level=0):\n",
    "        splited_lines_list.append(v.iloc[0]['geometry'].coords[-1])\n",
    "\n",
    "    circuit = Polygon(splited_lines_list)\n",
    "    \n",
    "    \n",
    "    if united_buildings:\n",
    "        circuit = circuit.difference(united_buildings)\n",
    "    \n",
    "    view_zone = gpd.GeoDataFrame(geometry=[circuit]).set_crs(crs)\n",
    "    return view_zone\n",
    "\n",
    "builds = gpd.read_file('examples_data/tara_buildings.geojson').to_crs(3857)\n",
    "p = Point(8278652.47 ,7737142.18) \n",
    "point = gpd.GeoDataFrame(geometry=[p],crs=3857)\n",
    "view_zone = get_visibility_result(p, builds, 300)\n",
    "\n",
    "m1 = view_zone.explore()\n",
    "m2=point.explore(m=m1,color='red')\n",
    "m3 =builds.explore(m=m2,color='purple')\n",
    "# test.explore(m=m3,color='yellow')\n",
    "m3"
   ],
   "id": "f59f061ffc455ef7",
   "outputs": [
    {
     "ename": "TypeError",
     "evalue": "'MultiPolygon' object is not iterable",
     "output_type": "error",
     "traceback": [
      "\u001B[1;31m---------------------------------------------------------------------------\u001B[0m",
      "\u001B[1;31mTypeError\u001B[0m                                 Traceback (most recent call last)",
      "Cell \u001B[1;32mIn[31], line 47\u001B[0m\n\u001B[0;32m     45\u001B[0m p \u001B[38;5;241m=\u001B[39m Point(\u001B[38;5;241m8278652.47\u001B[39m ,\u001B[38;5;241m7737142.18\u001B[39m) \n\u001B[0;32m     46\u001B[0m point \u001B[38;5;241m=\u001B[39m gpd\u001B[38;5;241m.\u001B[39mGeoDataFrame(geometry\u001B[38;5;241m=\u001B[39m[p],crs\u001B[38;5;241m=\u001B[39m\u001B[38;5;241m3857\u001B[39m)\n\u001B[1;32m---> 47\u001B[0m view_zone \u001B[38;5;241m=\u001B[39m \u001B[43mget_visibility_result\u001B[49m\u001B[43m(\u001B[49m\u001B[43mp\u001B[49m\u001B[43m,\u001B[49m\u001B[43m \u001B[49m\u001B[43mbuilds\u001B[49m\u001B[43m,\u001B[49m\u001B[43m \u001B[49m\u001B[38;5;241;43m300\u001B[39;49m\u001B[43m)\u001B[49m\n\u001B[0;32m     49\u001B[0m m1 \u001B[38;5;241m=\u001B[39m view_zone\u001B[38;5;241m.\u001B[39mexplore()\n\u001B[0;32m     50\u001B[0m m2\u001B[38;5;241m=\u001B[39mpoint\u001B[38;5;241m.\u001B[39mexplore(m\u001B[38;5;241m=\u001B[39mm1,color\u001B[38;5;241m=\u001B[39m\u001B[38;5;124m'\u001B[39m\u001B[38;5;124mred\u001B[39m\u001B[38;5;124m'\u001B[39m)\n",
      "Cell \u001B[1;32mIn[31], line 15\u001B[0m, in \u001B[0;36mget_visibility_result\u001B[1;34m(point, buildings, view_distance)\u001B[0m\n\u001B[0;32m     11\u001B[0m s \u001B[38;5;241m=\u001B[39m buildings\u001B[38;5;241m.\u001B[39mwithin(point_buffer)\n\u001B[0;32m     13\u001B[0m buildings_in_buffer \u001B[38;5;241m=\u001B[39m buildings\u001B[38;5;241m.\u001B[39mloc[s[s]\u001B[38;5;241m.\u001B[39mindex]\u001B[38;5;241m.\u001B[39mreset_index(drop\u001B[38;5;241m=\u001B[39m\u001B[38;5;28;01mTrue\u001B[39;00m)\n\u001B[1;32m---> 15\u001B[0m test1 \u001B[38;5;241m=\u001B[39m \u001B[43m[\u001B[49m\u001B[43mpoint\u001B[49m\u001B[43m \u001B[49m\u001B[38;5;28;43;01mfor\u001B[39;49;00m\u001B[43m \u001B[49m\u001B[43mpolygon\u001B[49m\u001B[43m \u001B[49m\u001B[38;5;129;43;01min\u001B[39;49;00m\u001B[43m \u001B[49m\u001B[43mbuildings_in_buffer\u001B[49m\u001B[38;5;241;43m.\u001B[39;49m\u001B[43mgeometry\u001B[49m\u001B[38;5;241;43m.\u001B[39;49m\u001B[43munary_union\u001B[49m\u001B[43m \u001B[49m\u001B[38;5;28;43;01mfor\u001B[39;49;00m\u001B[43m \u001B[49m\u001B[43mpoint\u001B[49m\u001B[43m \u001B[49m\u001B[38;5;129;43;01min\u001B[39;49;00m\u001B[43m \u001B[49m\u001B[43mpolygon\u001B[49m\u001B[38;5;241;43m.\u001B[39;49m\u001B[43mexterior\u001B[49m\u001B[38;5;241;43m.\u001B[39;49m\u001B[43mcoords\u001B[49m\u001B[43m]\u001B[49m\n\u001B[0;32m     16\u001B[0m \u001B[38;5;28mprint\u001B[39m(test1)\n\u001B[0;32m     17\u001B[0m buffer_exterior_ \u001B[38;5;241m=\u001B[39m \u001B[38;5;28mlist\u001B[39m(point_buffer\u001B[38;5;241m.\u001B[39mexterior\u001B[38;5;241m.\u001B[39mcoords)\n",
      "\u001B[1;31mTypeError\u001B[0m: 'MultiPolygon' object is not iterable"
     ]
    }
   ],
   "execution_count": 31
  },
  {
   "metadata": {},
   "cell_type": "code",
   "outputs": [],
   "execution_count": null,
   "source": "",
   "id": "d0e64066885ade4b"
  }
 ],
 "metadata": {
  "kernelspec": {
   "display_name": "Python 3",
   "language": "python",
   "name": "python3"
  },
  "language_info": {
   "codemirror_mode": {
    "name": "ipython",
    "version": 2
   },
   "file_extension": ".py",
   "mimetype": "text/x-python",
   "name": "python",
   "nbconvert_exporter": "python",
   "pygments_lexer": "ipython2",
   "version": "2.7.6"
  }
 },
 "nbformat": 4,
 "nbformat_minor": 5
}
