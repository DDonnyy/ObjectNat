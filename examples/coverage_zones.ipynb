{
 "cells": [
  {
   "cell_type": "code",
   "id": "initial_id",
   "metadata": {
    "collapsed": true
   },
   "source": [
    "from iduedu import get_intermodal_graph, get_boundary\n",
    "\n",
    "# Importing the necessary libraries:\n",
    "# - 'get_intermodal_graph' from 'objectnat' to retrieve a multimodal transportation network graph\n",
    "# - 'geopandas' for handling geospatial data\n",
    "poly = get_boundary(osm_id=1114252)\n",
    "G_intermodal = get_intermodal_graph(polygon=poly, clip_by_bounds=True)\n",
    "# Retrieving the intermodal graph (public transport, roads, etc.) for a city or region using the OpenStreetMap (OSM) ID 1114252."
   ],
   "outputs": [],
   "execution_count": null
  },
  {
   "metadata": {},
   "cell_type": "code",
   "source": [
    "import geopandas as gpd\n",
    "\n",
    "services = gpd.read_parquet('examples_data/services.parquet')"
   ],
   "id": "dc4ae5fbd2374af4",
   "outputs": [],
   "execution_count": null
  },
  {
   "metadata": {},
   "cell_type": "code",
   "source": [
    "from objectnat import get_graph_coverage\n",
    "\n",
    "result_length = get_graph_coverage(\n",
    "    gdf_from=services, nx_graph=G_intermodal, weight_type=\"length_meter\", weight_value_cutoff=800\n",
    ")\n",
    "result_length.explore(column='name', tiles='CartoDB Positron')"
   ],
   "id": "239ae7c0ed8604a1",
   "outputs": [],
   "execution_count": null
  },
  {
   "metadata": {},
   "cell_type": "code",
   "source": [
    "from objectnat import get_graph_coverage\n",
    "\n",
    "zone = gpd.GeoDataFrame(geometry=[poly], crs=4326)\n",
    "\n",
    "result_time = get_graph_coverage(\n",
    "    gdf_from=services, nx_graph=G_intermodal, weight_type=\"time_min\", weight_value_cutoff=10, zone=zone)\n",
    "result_time.explore(column='name', tiles='CartoDB Positron')"
   ],
   "id": "3fe99dad99d0c066",
   "outputs": [],
   "execution_count": null
  }
 ],
 "metadata": {
  "kernelspec": {
   "display_name": "Python 3",
   "language": "python",
   "name": "python3"
  },
  "language_info": {
   "codemirror_mode": {
    "name": "ipython",
    "version": 2
   },
   "file_extension": ".py",
   "mimetype": "text/x-python",
   "name": "python",
   "nbconvert_exporter": "python",
   "pygments_lexer": "ipython2",
   "version": "2.7.6"
  }
 },
 "nbformat": 4,
 "nbformat_minor": 5
}
