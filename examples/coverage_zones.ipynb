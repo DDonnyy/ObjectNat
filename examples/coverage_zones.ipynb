{
 "cells": [
  {
   "cell_type": "code",
   "id": "initial_id",
   "metadata": {
    "collapsed": true
   },
   "source": [
    "from objectnat import get_intermodal_graph\n",
    "import geopandas as gpd\n",
    "\n",
    "# Importing the necessary libraries:\n",
    "# - 'get_intermodal_graph' from 'objectnat' to retrieve a multimodal transportation network graph\n",
    "# - 'geopandas' for handling geospatial data\n",
    "\n",
    "G_intermodal = get_intermodal_graph(osm_id=1114252)\n",
    "# Retrieving the intermodal graph (public transport, roads, etc.) for a city or region using the OpenStreetMap (OSM) ID 1114252."
   ],
   "outputs": [],
   "execution_count": null
  },
  {
   "cell_type": "code",
   "source": [
    "from objectnat import get_isochrone_zone_coverage\n",
    "\n",
    "services = gpd.read_parquet('examples_data/services.parquet').to_crs(32636).iloc[:5]\n",
    "# Loading service location data from a .parquet file and reprojecting it to EPSG:32636 (UTM zone).\n",
    "# Only the first 5 services are selected for analysis.\n",
    "\n",
    "isochrones, stops, routes = get_isochrone_zone_coverage(\n",
    "    services=services,\n",
    "    weight_type=\"time_min\",\n",
    "    weight_value=10,\n",
    "    city_graph=G_intermodal,\n",
    ")\n",
    "# Calculating isochrone zones for the selected services.\n",
    "# 'weight_type' specifies the type of weight to use (e.g., 'time_min' for travel time in minutes),\n",
    "# and 'weight_value' (10) indicates the maximum travel time to calculate the isochrones for.\n",
    "# 'city_graph' is the multimodal transportation graph used to calculate travel times and reachability.\n",
    "# The function returns:\n",
    "# - 'isochrones': the zones that can be reached from the services within the given time threshold\n",
    "# - 'stops': transit stops within those isochrones, if any.\n",
    "# - 'routes': the transit routes that fall within or pass through the isochrone zones, if any.\n"
   ],
   "metadata": {
    "collapsed": false
   },
   "id": "5de2c51ec8ab6c83",
   "outputs": [],
   "execution_count": null
  },
  {
   "cell_type": "code",
   "source": [
    "m = isochrones.explore(column='id', categorical=True, tiles='CartoDB positron')\n",
    "# Visualizing the isochrone zones on an interactive map using 'explore'. \n",
    "# 'id' is used as the categorical identifier to color different isochrones, and 'CartoDB positron' is used as the base map.\n",
    "stops.explore(m=m)\n",
    "# Overlaying the transit stops on the same map for visualization.\n",
    "routes.explore(m=m, column='type')\n",
    "# Overlaying the transit routes on the map, with the 'type' column used to distinguish different route types (e.g., bus, tram)."
   ],
   "metadata": {
    "collapsed": false
   },
   "id": "838ff9ea77b44df",
   "outputs": [],
   "execution_count": null
  }
 ],
 "metadata": {
  "kernelspec": {
   "display_name": "Python 3",
   "language": "python",
   "name": "python3"
  },
  "language_info": {
   "codemirror_mode": {
    "name": "ipython",
    "version": 2
   },
   "file_extension": ".py",
   "mimetype": "text/x-python",
   "name": "python",
   "nbconvert_exporter": "python",
   "pygments_lexer": "ipython2",
   "version": "2.7.6"
  }
 },
 "nbformat": 4,
 "nbformat_minor": 5
}
