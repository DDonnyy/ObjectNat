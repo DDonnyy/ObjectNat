{
 "cells": [
  {
   "metadata": {},
   "cell_type": "markdown",
   "source": [],
   "id": "68ce11f16f5cd863"
  },
  {
   "cell_type": "code",
   "id": "initial_id",
   "metadata": {
    "collapsed": true
   },
   "source": [
    "from dongraphio import GraphType\n",
    "from objectnat import get_isochrone_zone_coverage, get_radius_zone_coverage, get_intermodal_graph_from_osm\n",
    "import geopandas as gpd\n",
    "\n",
    "\n",
    "graph = get_intermodal_graph_from_osm(city_osm_id=1114252, city_crs=32636)\n",
    "services = gpd.read_parquet('examples_data/spb_services.parquet').to_crs(32636).iloc[:5]\n",
    "result = get_isochrone_zone_coverage(\n",
    "    services=services,\n",
    "    weight_type=\"time_min\",\n",
    "    weight_value=10,\n",
    "    city_graph=graph,\n",
    "    graph_type=[GraphType.PUBLIC_TRANSPORT, GraphType.WALK]\n",
    ")\n",
    "\n",
    "# Visualize data\n",
    "result"
   ],
   "outputs": [],
   "execution_count": null
  }
 ],
 "metadata": {
  "kernelspec": {
   "display_name": "Python 3",
   "language": "python",
   "name": "python3"
  },
  "language_info": {
   "codemirror_mode": {
    "name": "ipython",
    "version": 2
   },
   "file_extension": ".py",
   "mimetype": "text/x-python",
   "name": "python",
   "nbconvert_exporter": "python",
   "pygments_lexer": "ipython2",
   "version": "2.7.6"
  }
 },
 "nbformat": 4,
 "nbformat_minor": 5
}
