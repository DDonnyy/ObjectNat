{
 "cells": [
  {
   "metadata": {},
   "cell_type": "markdown",
   "source": [],
   "id": "68ce11f16f5cd863"
  },
  {
   "cell_type": "code",
   "id": "initial_id",
   "metadata": {
    "collapsed": true
   },
   "source": [
    "from shapely import unary_union\n",
    "\n",
    "from objectnat import get_intermodal_graph\n",
    "import geopandas as gpd\n",
    "\n",
    "services = gpd.read_parquet('examples_data/services.parquet')\n",
    "\n",
    "polygon = unary_union(services.geometry.to_list()).convex_hull.buffer(0.01)  # Getting an \"encircling\" polygon around our layer to download the graph \n",
    "G_intermodal = get_intermodal_graph(polygon=polygon)\n",
    "\n",
    "services.to_crs(G_intermodal.graph['crs'], inplace=True)"
   ],
   "outputs": [],
   "execution_count": null
  },
  {
   "cell_type": "code",
   "source": [
    "from objectnat import get_isochrone_zone_coverage\n",
    "isochrones,stops,routes = get_isochrone_zone_coverage(\n",
    "    services=services.iloc[:5],\n",
    "    weight_type=\"time_min\",\n",
    "    weight_value=10,\n",
    "    city_graph=G_intermodal\n",
    ")"
   ],
   "metadata": {
    "collapsed": false
   },
   "id": "5de2c51ec8ab6c83",
   "outputs": [],
   "execution_count": null
  },
  {
   "cell_type": "code",
   "source": [
    "m = isochrones.explore(column='id',tiles='CartoDB positron',categorical=True,cmap='Spectral_r')\n",
    "stops.explore(m=m)\n",
    "routes.explore(m=m,column='type',cmap='viridis')"
   ],
   "metadata": {
    "collapsed": false
   },
   "id": "838ff9ea77b44df",
   "outputs": [],
   "execution_count": null
  }
 ],
 "metadata": {
  "kernelspec": {
   "display_name": "Python 3",
   "language": "python",
   "name": "python3"
  },
  "language_info": {
   "codemirror_mode": {
    "name": "ipython",
    "version": 2
   },
   "file_extension": ".py",
   "mimetype": "text/x-python",
   "name": "python",
   "nbconvert_exporter": "python",
   "pygments_lexer": "ipython2",
   "version": "2.7.6"
  }
 },
 "nbformat": 4,
 "nbformat_minor": 5
}
