{
 "cells": [
  {
   "cell_type": "code",
   "id": "initial_id",
   "metadata": {
    "collapsed": true
   },
   "source": [
    "\n",
    "from objectnat import get_intermodal_graph\n",
    "import geopandas as gpd\n",
    "\n",
    "G_intermodal = get_intermodal_graph(osm_id=1114252)\n"
   ],
   "outputs": [],
   "execution_count": null
  },
  {
   "cell_type": "code",
   "source": [
    "from objectnat import get_isochrone_zone_coverage\n",
    "services = gpd.read_parquet('examples_data/services.parquet').to_crs(32636).iloc[:5]\n",
    "isochrones, stops, routes  = get_isochrone_zone_coverage(\n",
    "    services=services,\n",
    "    weight_type=\"time_min\",\n",
    "    weight_value=10,\n",
    "    city_graph=G_intermodal,\n",
    ")"
   ],
   "metadata": {
    "collapsed": false
   },
   "id": "5de2c51ec8ab6c83",
   "outputs": [],
   "execution_count": null
  },
  {
   "cell_type": "code",
   "source": [
    "m = isochrones.explore(column='id',categorical=True,tiles='CartoDB positron')\n",
    "stops.explore(m=m)\n",
    "routes.explore(m=m, column='type')"
   ],
   "metadata": {
    "collapsed": false
   },
   "id": "838ff9ea77b44df",
   "outputs": [],
   "execution_count": null
  },
  {
   "metadata": {},
   "cell_type": "code",
   "source": "",
   "id": "32e06f9e29a73467",
   "outputs": [],
   "execution_count": null
  }
 ],
 "metadata": {
  "kernelspec": {
   "display_name": "Python 3",
   "language": "python",
   "name": "python3"
  },
  "language_info": {
   "codemirror_mode": {
    "name": "ipython",
    "version": 2
   },
   "file_extension": ".py",
   "mimetype": "text/x-python",
   "name": "python",
   "nbconvert_exporter": "python",
   "pygments_lexer": "ipython2",
   "version": "2.7.6"
  }
 },
 "nbformat": 4,
 "nbformat_minor": 5
}
