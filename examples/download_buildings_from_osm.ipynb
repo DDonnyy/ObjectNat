{
 "cells": [
  {
   "metadata": {},
   "cell_type": "markdown",
   "source": [
    "This function downloads building geometries from OpenStreetMap (OSM) for a specified territory and assigns attributes to each building. Specifically, it determines whether a building is residential (`is_living` attribute) and estimates the approximate number of inhabitants (`approximate_pop` attribute).\n",
    "\n",
    "The function works as follows:\n",
    "- Downloads all buildings from osm using osmnx library.\n",
    "- Residential Classification (`is_living`): Based on the building type, the function classifies buildings as either residential or non-residential.\n",
    "- Population Estimation (`approximate_pop`):\n",
    "If a building's area is less than 400 m² and it has no more than 2 floors, it is considered a private house with 3 inhabitants.\n",
    "For other residential buildings, the population is calculated as (`number of floors` * `living area`) / `area_per_person`, where `area_per_person`  is the standard living space per person (33 m² by default).\n",
    "\n",
    "##### If you have a real population value in the chosen area, recommend using this [model](restore_population.pynb) to restore the population more accurately. "
   ],
   "id": "91dec176d94be420"
  },
  {
   "metadata": {},
   "cell_type": "code",
   "source": [
    "from objectnat import download_buildings\n",
    "\n",
    "buildings = download_buildings(osm_territory_id=1576083,area_per_person=33)"
   ],
   "id": "5a39ce42fe138e7a",
   "outputs": [],
   "execution_count": null
  },
  {
   "metadata": {},
   "cell_type": "code",
   "source": "buildings.explore(column='approximate_pop',tiles='CartoDB positron')",
   "id": "6bba89a226bbe68c",
   "outputs": [],
   "execution_count": null
  }
 ],
 "metadata": {
  "kernelspec": {
   "display_name": "Python 3",
   "language": "python",
   "name": "python3"
  },
  "language_info": {
   "codemirror_mode": {
    "name": "ipython",
    "version": 2
   },
   "file_extension": ".py",
   "mimetype": "text/x-python",
   "name": "python",
   "nbconvert_exporter": "python",
   "pygments_lexer": "ipython2",
   "version": "2.7.6"
  }
 },
 "nbformat": 4,
 "nbformat_minor": 5
}
