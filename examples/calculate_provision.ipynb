{
 "cells": [
  {
   "cell_type": "markdown",
   "source": [
    "### Basic example of provision calculation when demands in buildings are calculated and the adjacency matrix is computed.\n",
    "#### Threshold - the value above which buildings will be marked as not meeting the specified value."
   ],
   "metadata": {
    "collapsed": false
   },
   "id": "bd4fe2d597fb7a4a"
  },
  {
   "cell_type": "code",
   "id": "initial_id",
   "metadata": {
    "collapsed": true
   },
   "source": [
    "\n",
    "from objectnat import get_service_provision\n",
    "import geopandas as gpd\n",
    "import pandas as pd\n",
    "\n",
    "# Importing necessary libraries:\n",
    "# - 'get_service_provision' calculates service provision based on adjacency matrix\n",
    "# - 'geopandas' for handling geospatial data\n",
    "# - 'pandas' for working with tabular data\n",
    "\n",
    "builds = gpd.read_parquet(\"examples_data/buildings.parquet\").to_crs(32636)\n",
    "services = gpd.read_parquet(\"examples_data/services.parquet\").to_crs(32636)\n",
    "adjacency_matrix = pd.read_parquet('examples_data/matrix_time.parquet')\n",
    "# Reading building and service data, reprojecting them to EPSG:32636 (UTM zone), and loading the precomputed adjacency matrix\n",
    "\n",
    "adjacency_matrix.index = adjacency_matrix.index.astype(int)\n",
    "services.index = services.index.astype(int)\n",
    "builds.index = builds.index.astype(int)\n",
    "adjacency_matrix.columns = adjacency_matrix.columns.astype(int)\n",
    "# Ensuring the indices and columns of the adjacency matrix and GeoDataFrames are integers for proper matching\n",
    "\n",
    "build_prov, services_prov, links_prov = get_service_provision(\n",
    "    buildings=builds,\n",
    "    services=services,\n",
    "    adjacency_matrix=adjacency_matrix,\n",
    "    threshold=10,\n",
    ")\n",
    "# Calculating service provision for each building. The 'threshold' parameter (10) defines the maximum allowable distance (or time)\n",
    "# beyond which buildings are considered to not meet the required service provision.\n",
    "\n",
    "\n",
    "# Visualize data\n",
    "m1 = build_prov.reset_index().explore(column='avg_dist', cmap='RdYlGn_r', tiles='CartoDB positron')\n",
    "# Visualizing buildings provision on a map using 'explore'. \n",
    "# The 'avg_dist' column (average distance to services) is visualized with a color map 'RdYlGn_r'\n",
    "\n",
    "links_prov.explore(m=m1, column='service_index', cmap='prism', style_kwds={'opacity': 0.5})\n",
    "# Visualizing links (connections between buildings and services) on the same map.\n",
    "# 'service_index' shows which service each link corresponds to.\n",
    "\n",
    "services_prov.explore(m=m1, color='red')\n",
    "# Visualizing service locations on the same map, using red markers for easy distinction."
   ],
   "outputs": [],
   "execution_count": null
  },
  {
   "metadata": {},
   "cell_type": "markdown",
   "source": [
    "### To recalculate demands, capacity, and links according to max distance value\n",
    "#### This section recalculates the service provision with a new threshold."
   ],
   "id": "8e429b3cc0b5c9b3"
  },
  {
   "metadata": {},
   "cell_type": "code",
   "source": [
    "from objectnat import recalculate_links\n",
    "\n",
    "vmax = build_prov['avg_dist'].max()\n",
    "# Extracting the maximum average distance for later visualization use.\n",
    "\n",
    "build_prov2, services_prov2, links_prov2 = recalculate_links(build_prov, services_prov, links_prov, 15)\n",
    "# Recalculating the service provision based on a new threshold of 15 (e.g., kilometers or minutes).\n",
    "# This adjusts the allocation of services to buildings based on this new maximum allowed distance.\n",
    "\n",
    "# Visualize data\n",
    "m1 = build_prov2.reset_index().explore(column='avg_dist', cmap='RdYlGn_r', tiles='CartoDB positron', vmax=vmax)\n",
    "# 'vmax' ensures the same color scaling is used for comparison with previous maps.\n",
    "links_prov2.explore(m=m1, column='service_index', cmap='prism', style_kwds={'opacity': 0.5})\n",
    "services_prov2.explore(m=m1, color='red')"
   ],
   "id": "d9dda95b007898f6",
   "outputs": [],
   "execution_count": null
  },
  {
   "metadata": {},
   "cell_type": "markdown",
   "source": [
    "### To clip provision\n",
    "#### This section demonstrates how to clip (limit) the provision analysis to a subset of buildings based on a geographic region.\n"
   ],
   "id": "f6e23eb3df01c86b"
  },
  {
   "metadata": {},
   "cell_type": "code",
   "source": [
    "from objectnat import clip_provision\n",
    "\n",
    "vmax = build_prov['avg_dist'].max()\n",
    "# Extracting the maximum average distance again for consistent visualization.\n",
    "\n",
    "to_clip_gdf = builds.iloc[500:503].copy()\n",
    "to_clip_gdf['geometry'] = to_clip_gdf['geometry'].buffer(500)\n",
    "# Selecting a small subset of buildings (500 to 503) and buffering their geometries by 500 units to create a clipping area.\n",
    "# This buffer defines the region around these buildings where we want to limit the service provision analysis.\n",
    "\n",
    "build_prov_clipped, services_prov_clipped, links_prov_clipped = clip_provision(build_prov2, services_prov2, links_prov2,\n",
    "                                                                               to_clip_gdf)\n",
    "# Clipping the service provision analysis to the area defined by 'to_clip_gdf'. This limits the results to buildings and services\n",
    "# that fall within the specified region.\n",
    "\n",
    "# Visualize data\n",
    "m1 = build_prov_clipped.reset_index().explore(column='avg_dist', cmap='RdYlGn_r', tiles='CartoDB positron', vmax=vmax)\n",
    "# Visualizing the clipped building provision data with the same color scaling.\n",
    "links_prov_clipped.explore(m=m1, column='service_index', cmap='prism', style_kwds={'opacity': 0.5})\n",
    "services_prov_clipped.explore(m=m1, color='red')"
   ],
   "id": "3f3ca134f7481d87",
   "outputs": [],
   "execution_count": null
  }
 ],
 "metadata": {
  "kernelspec": {
   "display_name": "Python 3",
   "language": "python",
   "name": "python3"
  },
  "language_info": {
   "codemirror_mode": {
    "name": "ipython",
    "version": 2
   },
   "file_extension": ".py",
   "mimetype": "text/x-python",
   "name": "python",
   "nbconvert_exporter": "python",
   "pygments_lexer": "ipython2",
   "version": "2.7.6"
  }
 },
 "nbformat": 4,
 "nbformat_minor": 5
}
