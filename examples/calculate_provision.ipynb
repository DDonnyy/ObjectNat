{
 "cells": [
  {
   "cell_type": "markdown",
   "source": [
    "Basic example of provision calculation when demands in buildings are calculated and the adjacency matrix is computed. Threshold - the value above which buildings will be marked as not meeting the specified value."
   ],
   "metadata": {
    "collapsed": false
   },
   "id": "bd4fe2d597fb7a4a"
  },
  {
   "cell_type": "code",
   "id": "initial_id",
   "metadata": {
    "collapsed": true
   },
   "source": [
    "%load_ext autoreload\n",
    "%autoreload 2\n",
    "from objectnat import get_provision\n",
    "import geopandas as gpd\n",
    "import pandas as pd\n",
    "\n",
    "builds = gpd.read_file(\"examples_data/tara_buildings.geojson\")\n",
    "services = gpd.read_file(\"examples_data/tara_kinder.geojson\")\n",
    "adjacency_matrix = pd.read_csv(\"examples_data/adjacency_matrix.csv\")\n",
    "\n",
    "adjacency_matrix.index = adjacency_matrix.index.astype(int)\n",
    "services.index = services.index.astype(int)\n",
    "builds.index = builds.index.astype(int)\n",
    "\n",
    "adjacency_matrix.columns = adjacency_matrix.columns.astype(int)\n",
    "\n",
    "build_prov, services_prov, links_prov = get_provision(\n",
    "    buildings=builds,\n",
    "    services=services,\n",
    "    adjacency_matrix=adjacency_matrix,\n",
    "    threshold=15,\n",
    "    city_crs=32643,\n",
    ")\n",
    "\n",
    "# Visualize data\n",
    "build_prov.reset_index(drop=True,inplace=True)\n",
    "services_prov.reset_index(drop=True,inplace=True)\n",
    "m1 = build_prov.explore()\n",
    "m2 = services_prov.explore(m=m1)\n",
    "m3 = links_prov.explore(m=m2)\n",
    "m3"
   ],
   "outputs": [],
   "execution_count": null
  },
  {
   "cell_type": "markdown",
   "source": [
    "Example of using `get_provision()` with the minimum amount of available data. \n",
    "- To create an `adjacency_matrix` inside, you need to provide a `nx_graph` and `weight_adjacency_matrix` - the selected weight of the edge (time_min or length_meter).\n",
    "- If there is no road `graph`, as in the example below, you need to pass `city_osm_id` to load the graph from osm and local `city_crs` for calculation accuracy, as well as `weight_adjacency_matrix` to create a matrix based on the selected weight. \n",
    "- If demands in buildings are absent but buildings are resettled, provide `demand_normative` (value from 0 to 1). \n",
    "- If buildings are not resettled, `demand_normative` and `population` - the total number of residents in the area under consideration should be passed."
   ],
   "metadata": {
    "collapsed": false
   },
   "id": "3e04d69f498a98a9"
  },
  {
   "cell_type": "code",
   "source": [
    "from src.objectnat import get_provision\n",
    "import geopandas as gpd\n",
    "\n",
    "builds = gpd.read_file(\"examples_data/tara_buildings.geojson\")\n",
    "builds.index = builds[\"building_id\"]\n",
    "builds.drop(columns=\"demand\",inplace=True) # Removing the 'demand' column, necessary for other examples\n",
    "\n",
    "services = gpd.read_file(\"examples_data/tara_kinder.geojson\")\n",
    "services.index = services[\"service_id\"]\n",
    "\n",
    "\n",
    "build_prov, services_prov, links_prov = get_provision(\n",
    "        buildings=builds,\n",
    "        services=services,\n",
    "        threshold=15,\n",
    "        city_osm_id=7226665,\n",
    "        city_crs=32643,\n",
    "        demand_normative=0.2,\n",
    "        population=28000,\n",
    "        weight_adjacency_matrix= \"time_min\",\n",
    ")\n",
    "\n",
    "# Visualize data\n",
    "build_prov.reset_index(drop=True,inplace=True)\n",
    "services_prov.reset_index(drop=True,inplace=True)\n",
    "m1 = build_prov.explore()\n",
    "m2 = services_prov.explore(m=m1)\n",
    "m3 = links_prov.explore(m=m2)\n",
    "m3"
   ],
   "metadata": {
    "collapsed": false
   },
   "id": "eeb0d9fa52d407f8",
   "outputs": [],
   "execution_count": null
  },
  {
   "cell_type": "code",
   "source": [],
   "metadata": {
    "collapsed": false
   },
   "id": "4187a689e35f5e52",
   "outputs": [],
   "execution_count": null
  }
 ],
 "metadata": {
  "kernelspec": {
   "display_name": "Python 3",
   "language": "python",
   "name": "python3"
  },
  "language_info": {
   "codemirror_mode": {
    "name": "ipython",
    "version": 2
   },
   "file_extension": ".py",
   "mimetype": "text/x-python",
   "name": "python",
   "nbconvert_exporter": "python",
   "pygments_lexer": "ipython2",
   "version": "2.7.6"
  }
 },
 "nbformat": 4,
 "nbformat_minor": 5
}
