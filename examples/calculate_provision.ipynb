{
 "cells": [
  {
   "cell_type": "markdown",
   "source": [
    "Basic example of provision calculation when demands in buildings are calculated and the adjacency matrix is computed. Threshold - the value above which buildings will be marked as not meeting the specified value."
   ],
   "metadata": {
    "collapsed": false
   },
   "id": "bd4fe2d597fb7a4a"
  },
  {
   "cell_type": "code",
   "id": "initial_id",
   "metadata": {
    "collapsed": true
   },
   "source": [
    "\n",
    "from objectnat import get_service_provision\n",
    "import geopandas as gpd\n",
    "import pandas as pd\n",
    "\n",
    "builds = gpd.read_parquet(\"examples_data/buildings.parquet\").to_crs(32636)\n",
    "services = gpd.read_parquet(\"examples_data/services.parquet\").to_crs(32636)\n",
    "adjacency_matrix = pd.read_parquet('examples_data/matrix_time.parquet')\n",
    "\n",
    "adjacency_matrix.index = adjacency_matrix.index.astype(int)\n",
    "services.index = services.index.astype(int)\n",
    "builds.index = builds.index.astype(int)\n",
    "adjacency_matrix.columns = adjacency_matrix.columns.astype(int)\n",
    "\n",
    "build_prov, services_prov, links_prov = get_service_provision(\n",
    "    buildings=builds,\n",
    "    services=services,\n",
    "    adjacency_matrix=adjacency_matrix,\n",
    "    threshold=10,\n",
    ")\n",
    "\n",
    "\n",
    "# Visualize data\n",
    "m1 = build_prov.reset_index().explore(column='avg_dist', cmap='RdYlGn_r',tiles='CartoDB positron')\n",
    "links_prov.explore(m=m1,column='service_index', cmap='prism',style_kwds = {'opacity':0.5})\n",
    "services_prov.explore(m=m1,color='red')"
   ],
   "outputs": [],
   "execution_count": null
  },
  {
   "metadata": {},
   "cell_type": "markdown",
   "source": "To recalculate demands,capacity and links according to max distance value",
   "id": "8e429b3cc0b5c9b3"
  },
  {
   "metadata": {},
   "cell_type": "code",
   "source": [
    "from objectnat import recalculate_links\n",
    "vmax = build_prov['avg_dist'].max()\n",
    "build_prov2, services_prov2, links_prov2 = recalculate_links(build_prov, services_prov, links_prov,15)\n",
    "\n",
    "# Visualize data\n",
    "m1 = build_prov2.reset_index().explore(column='avg_dist', cmap='RdYlGn_r',tiles='CartoDB positron',vmax=vmax)\n",
    "links_prov2.explore(m=m1,column='service_index', cmap='prism',style_kwds = {'opacity':0.5})\n",
    "services_prov2.explore(m=m1,color='red')"
   ],
   "id": "d9dda95b007898f6",
   "outputs": [],
   "execution_count": null
  }
 ],
 "metadata": {
  "kernelspec": {
   "display_name": "Python 3",
   "language": "python",
   "name": "python3"
  },
  "language_info": {
   "codemirror_mode": {
    "name": "ipython",
    "version": 2
   },
   "file_extension": ".py",
   "mimetype": "text/x-python",
   "name": "python",
   "nbconvert_exporter": "python",
   "pygments_lexer": "ipython2",
   "version": "2.7.6"
  }
 },
 "nbformat": 4,
 "nbformat_minor": 5
}
