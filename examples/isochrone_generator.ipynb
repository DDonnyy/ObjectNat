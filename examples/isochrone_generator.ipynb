{
 "cells": [
  {
   "cell_type": "markdown",
   "source": "Intermodal nx_graph can be loaded from OSM [example](https://github.com/DDonnyy/IduEdu/blob/main/examples/get_any_graph.ipynb)",
   "metadata": {
    "collapsed": false
   },
   "id": "9b12442ea2f9f508"
  },
  {
   "cell_type": "code",
   "source": [
    "from shapely import Point\n",
    "\n",
    "from objectnat import get_intermodal_graph,get_accessibility_isochrones\n",
    "import geopandas as gpd\n",
    "\n",
    "G_intermodal = get_intermodal_graph(osm_id=1114252)"
   ],
   "metadata": {
    "collapsed": false
   },
   "id": "df20dec8ac67c8da",
   "outputs": [],
   "execution_count": null
  },
  {
   "metadata": {},
   "cell_type": "code",
   "source": [
    "points = gpd.GeoDataFrame(geometry=[Point(30.295606,59.9439234)],crs=4326).to_crs(G_intermodal.graph['crs'])\n",
    "isochrones, stops, routes = get_accessibility_isochrones(\n",
    "    points=points,\n",
    "    weight_type=\"time_min\",\n",
    "    weight_value=10,\n",
    "    graph_nx=G_intermodal\n",
    ")\n",
    "m = isochrones.explore(tiles='CartoDB positron')\n",
    "stops.explore(m=m)\n",
    "routes.explore(m=m, column='type')"
   ],
   "id": "f71a6d15e3dc7eed",
   "execution_count": null,
   "outputs": []
  }
 ],
 "metadata": {
  "kernelspec": {
   "display_name": "Python 3",
   "language": "python",
   "name": "python3"
  },
  "language_info": {
   "codemirror_mode": {
    "name": "ipython",
    "version": 2
   },
   "file_extension": ".py",
   "mimetype": "text/x-python",
   "name": "python",
   "nbconvert_exporter": "python",
   "pygments_lexer": "ipython2",
   "version": "2.7.6"
  }
 },
 "nbformat": 4,
 "nbformat_minor": 5
}
