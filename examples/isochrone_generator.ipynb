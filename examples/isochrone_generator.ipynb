{
 "cells": [
  {
   "cell_type": "markdown",
   "source": [
    "Intermodal nx_graph can be loaded from OSM [example](graph_generator.ipynb)"
   ],
   "metadata": {
    "collapsed": false
   },
   "id": "9b12442ea2f9f508"
  },
  {
   "cell_type": "code",
   "id": "initial_id",
   "metadata": {
    "collapsed": true,
    "ExecuteTime": {
     "end_time": "2024-05-24T13:01:15.980910Z",
     "start_time": "2024-05-24T13:01:08.623825Z"
    }
   },
   "source": [
    "from shapely import Point\n",
    "from objectnat import get_accessibility_isochrones,GraphType\n",
    "from objectnat import get_intermodal_graph_from_osm\n",
    "import networkx as nx\n",
    "graph = get_intermodal_graph_from_osm(city_osm_id=7226665, city_crs=32643)\n",
    "accessibility_isochrones, public_transport_routes, public_transport_stops = get_accessibility_isochrones(\n",
    "    graph_type=[GraphType.PUBLIC_TRANSPORT, GraphType.WALK],\n",
    "    points=Point(461525,6305709),\n",
    "    weight_value=20,\n",
    "    weight_type=\"time_min\",\n",
    "    city_graph=graph,\n",
    "    city_crs=32643,\n",
    ")\n",
    "\n",
    "# Visualize data\n",
    "m1 = accessibility_isochrones.explore()\n",
    "# public_transport_routes.explore(m=m1) # if not None\n",
    "# public_transport_stops.explore(m=m1)  # if not None\n",
    "m1"
   ],
   "outputs": [
    {
     "data": {
      "text/html": [
       "\n",
       "\t\t\t<script type=\"text/javascript\">\n",
       "\t\t\t<!--\n",
       "\t\t\t\t\n",
       "\t\t\t{\n",
       "\t\t\t\tvar element = document.getElementById('NetworKit_script');\n",
       "\t\t\t\tif (element) {\n",
       "\t\t\t\t\telement.parentNode.removeChild(element);\n",
       "\t\t\t\t}\n",
       "\t\t\t\telement = document.createElement('script');\n",
       "\t\t\t\telement.type = 'text/javascript';\n",
       "\t\t\t\telement.innerHTML = 'function NetworKit_pageEmbed(id) { var i, j; var elements; elements = document.getElementById(id).getElementsByClassName(\"Plot\"); for (i=0; i<elements.length; i++) { elements[i].id = id + \"_Plot_\" + i; var data = elements[i].getAttribute(\"data-image\").split(\"|\"); elements[i].removeAttribute(\"data-image\"); var content = \"<div class=\\\\\"Image\\\\\" id=\\\\\"\" + elements[i].id + \"_Image\\\\\" />\"; elements[i].innerHTML = content; elements[i].setAttribute(\"data-image-index\", 0); elements[i].setAttribute(\"data-image-length\", data.length); for (j=0; j<data.length; j++) { elements[i].setAttribute(\"data-image-\" + j, data[j]); } NetworKit_plotUpdate(elements[i]); elements[i].onclick = function (e) { NetworKit_overlayShow((e.target) ? e.target : e.srcElement); } } elements = document.getElementById(id).getElementsByClassName(\"HeatCell\"); for (i=0; i<elements.length; i++) { var data = parseFloat(elements[i].getAttribute(\"data-heat\")); var color = \"#00FF00\"; if (data <= 1 && data > 0) { color = \"hsla(0, 100%, 75%, \" + (data) + \")\"; } else if (data <= 0 && data >= -1) { color = \"hsla(240, 100%, 75%, \" + (-data) + \")\"; } elements[i].style.backgroundColor = color; } elements = document.getElementById(id).getElementsByClassName(\"Details\"); for (i=0; i<elements.length; i++) { elements[i].setAttribute(\"data-title\", \"-\"); NetworKit_toggleDetails(elements[i]); elements[i].onclick = function (e) { NetworKit_toggleDetails((e.target) ? e.target : e.srcElement); } } elements = document.getElementById(id).getElementsByClassName(\"MathValue\"); for (i=elements.length-1; i>=0; i--) { value = elements[i].innerHTML.trim(); if (value === \"nan\") { elements[i].parentNode.innerHTML = \"\" } } elements = document.getElementById(id).getElementsByClassName(\"SubCategory\"); for (i=elements.length-1; i>=0; i--) { value = elements[i].innerHTML.trim(); if (value === \"\") { elements[i].parentNode.removeChild(elements[i]) } } elements = document.getElementById(id).getElementsByClassName(\"Category\"); for (i=elements.length-1; i>=0; i--) { value = elements[i].innerHTML.trim(); if (value === \"\") { elements[i].parentNode.removeChild(elements[i]) } } var isFirefox = false; try { isFirefox = typeof InstallTrigger !== \"undefined\"; } catch (e) {} if (!isFirefox) { alert(\"Currently the function\\'s output is only fully supported by Firefox.\"); } } function NetworKit_plotUpdate(source) { var index = source.getAttribute(\"data-image-index\"); var data = source.getAttribute(\"data-image-\" + index); var image = document.getElementById(source.id + \"_Image\"); image.style.backgroundImage = \"url(\" + data + \")\"; } function NetworKit_showElement(id, show) { var element = document.getElementById(id); element.style.display = (show) ? \"block\" : \"none\"; } function NetworKit_overlayShow(source) { NetworKit_overlayUpdate(source); NetworKit_showElement(\"NetworKit_Overlay\", true); } function NetworKit_overlayUpdate(source) { document.getElementById(\"NetworKit_Overlay_Title\").innerHTML = source.title; var index = source.getAttribute(\"data-image-index\"); var data = source.getAttribute(\"data-image-\" + index); var image = document.getElementById(\"NetworKit_Overlay_Image\"); image.setAttribute(\"data-id\", source.id); image.style.backgroundImage = \"url(\" + data + \")\"; var link = document.getElementById(\"NetworKit_Overlay_Toolbar_Bottom_Save\"); link.href = data; link.download = source.title + \".svg\"; } function NetworKit_overlayImageShift(delta) { var image = document.getElementById(\"NetworKit_Overlay_Image\"); var source = document.getElementById(image.getAttribute(\"data-id\")); var index = parseInt(source.getAttribute(\"data-image-index\")); var length = parseInt(source.getAttribute(\"data-image-length\")); var index = (index+delta) % length; if (index < 0) { index = length + index; } source.setAttribute(\"data-image-index\", index); NetworKit_overlayUpdate(source); } function NetworKit_toggleDetails(source) { var childs = source.children; var show = false; if (source.getAttribute(\"data-title\") == \"-\") { source.setAttribute(\"data-title\", \"+\"); show = false; } else { source.setAttribute(\"data-title\", \"-\"); show = true; } for (i=0; i<childs.length; i++) { if (show) { childs[i].style.display = \"block\"; } else { childs[i].style.display = \"none\"; } } }';\n",
       "\t\t\t\telement.setAttribute('id', 'NetworKit_script');\n",
       "\t\t\t\tdocument.head.appendChild(element);\n",
       "\t\t\t}\n",
       "\t\t\n",
       "\t\t\t\t\n",
       "\t\t\t{\n",
       "\t\t\t\tvar element = document.getElementById('NetworKit_style');\n",
       "\t\t\t\tif (element) {\n",
       "\t\t\t\t\telement.parentNode.removeChild(element);\n",
       "\t\t\t\t}\n",
       "\t\t\t\telement = document.createElement('style');\n",
       "\t\t\t\telement.type = 'text/css';\n",
       "\t\t\t\telement.innerHTML = '.NetworKit_Page { font-family: Arial, Helvetica, sans-serif; font-size: 14px; } .NetworKit_Page .Value:before { font-family: Arial, Helvetica, sans-serif; font-size: 1.05em; content: attr(data-title) \":\"; margin-left: -2.5em; padding-right: 0.5em; } .NetworKit_Page .Details .Value:before { display: block; } .NetworKit_Page .Value { font-family: monospace; white-space: pre; padding-left: 2.5em; white-space: -moz-pre-wrap !important; white-space: -pre-wrap; white-space: -o-pre-wrap; white-space: pre-wrap; word-wrap: break-word; tab-size: 4; -moz-tab-size: 4; } .NetworKit_Page .Category { clear: both; padding-left: 1em; margin-bottom: 1.5em; } .NetworKit_Page .Category:before { content: attr(data-title); font-size: 1.75em; display: block; margin-left: -0.8em; margin-bottom: 0.5em; } .NetworKit_Page .SubCategory { margin-bottom: 1.5em; padding-left: 1em; } .NetworKit_Page .SubCategory:before { font-size: 1.6em; display: block; margin-left: -0.8em; margin-bottom: 0.5em; } .NetworKit_Page .SubCategory[data-title]:before { content: attr(data-title); } .NetworKit_Page .Block { display: block; } .NetworKit_Page .Block:after { content: \".\"; visibility: hidden; display: block; height: 0; clear: both; } .NetworKit_Page .Block .Thumbnail_Overview, .NetworKit_Page .Block .Thumbnail_ScatterPlot { width: 260px; float: left; } .NetworKit_Page .Block .Thumbnail_Overview img, .NetworKit_Page .Block .Thumbnail_ScatterPlot img { width: 260px; } .NetworKit_Page .Block .Thumbnail_Overview:before, .NetworKit_Page .Block .Thumbnail_ScatterPlot:before { display: block; text-align: center; font-weight: bold; } .NetworKit_Page .Block .Thumbnail_Overview:before { content: attr(data-title); } .NetworKit_Page .HeatCell { font-family: \"Courier New\", Courier, monospace; cursor: pointer; } .NetworKit_Page .HeatCell, .NetworKit_Page .HeatCellName { display: inline; padding: 0.1em; margin-right: 2px; background-color: #FFFFFF } .NetworKit_Page .HeatCellName { margin-left: 0.25em; } .NetworKit_Page .HeatCell:before { content: attr(data-heat); display: inline-block; color: #000000; width: 4em; text-align: center; } .NetworKit_Page .Measure { clear: both; } .NetworKit_Page .Measure .Details { cursor: pointer; } .NetworKit_Page .Measure .Details:before { content: \"[\" attr(data-title) \"]\"; display: block; } .NetworKit_Page .Measure .Details .Value { border-left: 1px dotted black; margin-left: 0.4em; padding-left: 3.5em; pointer-events: none; } .NetworKit_Page .Measure .Details .Spacer:before { content: \".\"; opacity: 0.0; pointer-events: none; } .NetworKit_Page .Measure .Plot { width: 440px; height: 440px; cursor: pointer; float: left; margin-left: -0.9em; margin-right: 20px; } .NetworKit_Page .Measure .Plot .Image { background-repeat: no-repeat; background-position: center center; background-size: contain; height: 100%; pointer-events: none; } .NetworKit_Page .Measure .Stat { width: 500px; float: left; } .NetworKit_Page .Measure .Stat .Group { padding-left: 1.25em; margin-bottom: 0.75em; } .NetworKit_Page .Measure .Stat .Group .Title { font-size: 1.1em; display: block; margin-bottom: 0.3em; margin-left: -0.75em; border-right-style: dotted; border-right-width: 1px; border-bottom-style: dotted; border-bottom-width: 1px; background-color: #D0D0D0; padding-left: 0.2em; } .NetworKit_Page .Measure .Stat .Group .List { -webkit-column-count: 3; -moz-column-count: 3; column-count: 3; } .NetworKit_Page .Measure .Stat .Group .List .Entry { position: relative; line-height: 1.75em; } .NetworKit_Page .Measure .Stat .Group .List .Entry[data-tooltip]:before { position: absolute; left: 0; top: -40px; background-color: #808080; color: #ffffff; height: 30px; line-height: 30px; border-radius: 5px; padding: 0 15px; content: attr(data-tooltip); white-space: nowrap; display: none; } .NetworKit_Page .Measure .Stat .Group .List .Entry[data-tooltip]:after { position: absolute; left: 15px; top: -10px; border-top: 7px solid #808080; border-left: 7px solid transparent; border-right: 7px solid transparent; content: \"\"; display: none; } .NetworKit_Page .Measure .Stat .Group .List .Entry[data-tooltip]:hover:after, .NetworKit_Page .Measure .Stat .Group .List .Entry[data-tooltip]:hover:before { display: block; } .NetworKit_Page .Measure .Stat .Group .List .Entry .MathValue { font-family: \"Courier New\", Courier, monospace; } .NetworKit_Page .Measure:after { content: \".\"; visibility: hidden; display: block; height: 0; clear: both; } .NetworKit_Page .PartitionPie { clear: both; } .NetworKit_Page .PartitionPie img { width: 600px; } #NetworKit_Overlay { left: 0px; top: 0px; display: none; position: absolute; width: 100%; height: 100%; background-color: rgba(0,0,0,0.6); z-index: 1000; } #NetworKit_Overlay_Title { position: absolute; color: white; transform: rotate(-90deg); width: 32em; height: 32em; padding-right: 0.5em; padding-top: 0.5em; text-align: right; font-size: 40px; } #NetworKit_Overlay .button { background: white; cursor: pointer; } #NetworKit_Overlay .button:before { size: 13px; display: inline-block; text-align: center; margin-top: 0.5em; margin-bottom: 0.5em; width: 1.5em; height: 1.5em; } #NetworKit_Overlay .icon-close:before { content: \"X\"; } #NetworKit_Overlay .icon-previous:before { content: \"P\"; } #NetworKit_Overlay .icon-next:before { content: \"N\"; } #NetworKit_Overlay .icon-save:before { content: \"S\"; } #NetworKit_Overlay_Toolbar_Top, #NetworKit_Overlay_Toolbar_Bottom { position: absolute; width: 40px; right: 13px; text-align: right; z-index: 1100; } #NetworKit_Overlay_Toolbar_Top { top: 0.5em; } #NetworKit_Overlay_Toolbar_Bottom { Bottom: 0.5em; } #NetworKit_Overlay_ImageContainer { position: absolute; top: 5%; left: 5%; height: 90%; width: 90%; background-repeat: no-repeat; background-position: center center; background-size: contain; } #NetworKit_Overlay_Image { height: 100%; width: 100%; background-repeat: no-repeat; background-position: center center; background-size: contain; }';\n",
       "\t\t\t\telement.setAttribute('id', 'NetworKit_style');\n",
       "\t\t\t\tdocument.head.appendChild(element);\n",
       "\t\t\t}\n",
       "\t\t\n",
       "\t\t\t\t\n",
       "\t\t\t{\n",
       "\t\t\t\tvar element = document.getElementById('NetworKit_Overlay');\n",
       "\t\t\t\tif (element) {\n",
       "\t\t\t\t\telement.parentNode.removeChild(element);\n",
       "\t\t\t\t}\n",
       "\t\t\t\telement = document.createElement('div');\n",
       "\t\t\t\telement.innerHTML = '<div id=\"NetworKit_Overlay_Toolbar_Top\"><div class=\"button icon-close\" id=\"NetworKit_Overlay_Close\" /></div><div id=\"NetworKit_Overlay_Title\" /> <div id=\"NetworKit_Overlay_ImageContainer\"> <div id=\"NetworKit_Overlay_Image\" /> </div> <div id=\"NetworKit_Overlay_Toolbar_Bottom\"> <div class=\"button icon-previous\" onclick=\"NetworKit_overlayImageShift(-1)\" /> <div class=\"button icon-next\" onclick=\"NetworKit_overlayImageShift(1)\" /> <a id=\"NetworKit_Overlay_Toolbar_Bottom_Save\"><div class=\"button icon-save\" /></a> </div>';\n",
       "\t\t\t\telement.setAttribute('id', 'NetworKit_Overlay');\n",
       "\t\t\t\tdocument.body.appendChild(element);\n",
       "\t\t\t\tdocument.getElementById('NetworKit_Overlay_Close').onclick = function (e) {\n",
       "\t\t\t\t\tdocument.getElementById('NetworKit_Overlay').style.display = 'none';\n",
       "\t\t\t\t}\n",
       "\t\t\t}\n",
       "\t\t\n",
       "\t\t\t-->\n",
       "\t\t\t</script>\n",
       "\t\t"
      ]
     },
     "metadata": {},
     "output_type": "display_data"
    },
    {
     "name": "stderr",
     "output_type": "stream",
     "text": [
      "\u001B[32m2024-05-24 16:01:10.802\u001B[0m | \u001B[1mINFO    \u001B[0m | \u001B[36mdongraphio.dongraphio\u001B[0m:\u001B[36mget_intermodal_graph_from_osm\u001B[0m:\u001B[36m55\u001B[0m - \u001B[1mCreating intermodal graph from OSM...\u001B[0m\n",
      "\u001B[32m2024-05-24 16:01:10.803\u001B[0m | \u001B[33m\u001B[1mWARNING \u001B[0m | \u001B[36mdongraphio.base_models.grapher_logic\u001B[0m:\u001B[36mget_public_trasport_graph\u001B[0m:\u001B[36m236\u001B[0m - \u001B[33m\u001B[1mFiles with routes or with stops was not found. The graph will be built based on data from OSM\u001B[0m\n",
      "\u001B[32m2024-05-24 16:01:11.282\u001B[0m | \u001B[33m\u001B[1mWARNING \u001B[0m | \u001B[36mdongraphio.base_models.grapher_logic\u001B[0m:\u001B[36mpublic_routes_to_edges\u001B[0m:\u001B[36m161\u001B[0m - \u001B[33m\u001B[1mIt seems there are no subway routes in the city. This transport type will be skipped.\u001B[0m\n",
      "\u001B[32m2024-05-24 16:01:11.505\u001B[0m | \u001B[33m\u001B[1mWARNING \u001B[0m | \u001B[36mdongraphio.base_models.grapher_logic\u001B[0m:\u001B[36mpublic_routes_to_edges\u001B[0m:\u001B[36m161\u001B[0m - \u001B[33m\u001B[1mIt seems there are no tram routes in the city. This transport type will be skipped.\u001B[0m\n",
      "\u001B[32m2024-05-24 16:01:11.754\u001B[0m | \u001B[33m\u001B[1mWARNING \u001B[0m | \u001B[36mdongraphio.base_models.grapher_logic\u001B[0m:\u001B[36mpublic_routes_to_edges\u001B[0m:\u001B[36m161\u001B[0m - \u001B[33m\u001B[1mIt seems there are no trolleybus routes in the city. This transport type will be skipped.\u001B[0m\n",
      "\u001B[32m2024-05-24 16:01:12.097\u001B[0m | \u001B[33m\u001B[1mWARNING \u001B[0m | \u001B[36mdongraphio.base_models.grapher_logic\u001B[0m:\u001B[36mpublic_routes_to_edges\u001B[0m:\u001B[36m161\u001B[0m - \u001B[33m\u001B[1mIt seems there are no bus routes in the city. This transport type will be skipped.\u001B[0m\n",
      "\u001B[32m2024-05-24 16:01:12.097\u001B[0m | \u001B[33m\u001B[1mWARNING \u001B[0m | \u001B[36mdongraphio.base_models.grapher_logic\u001B[0m:\u001B[36mget_public_trasport_graph\u001B[0m:\u001B[36m258\u001B[0m - \u001B[33m\u001B[1mNo data found for public transport, this graph will be empty.\u001B[0m\n",
      "\u001B[32m2024-05-24 16:01:12.160\u001B[0m | \u001B[34m\u001B[1mDEBUG   \u001B[0m | \u001B[36mdongraphio.base_models.grapher_logic\u001B[0m:\u001B[36mget_osmnx_graph\u001B[0m:\u001B[36m94\u001B[0m - \u001B[34m\u001B[1mExtracting and preparing walk graph from OSM ...\u001B[0m\n"
     ]
    },
    {
     "data": {
      "text/plain": [
       "Collecting walk graph:   0%|          | 0/3958 [00:00<?, ?it/s]"
      ],
      "application/vnd.jupyter.widget-view+json": {
       "version_major": 2,
       "version_minor": 0,
       "model_id": "34953b34ea2b4f65818b7cf6290ba6b0"
      }
     },
     "metadata": {},
     "output_type": "display_data"
    },
    {
     "name": "stderr",
     "output_type": "stream",
     "text": [
      "\u001B[32m2024-05-24 16:01:14.547\u001B[0m | \u001B[34m\u001B[1mDEBUG   \u001B[0m | \u001B[36mdongraphio.base_models.grapher_logic\u001B[0m:\u001B[36mget_osmnx_graph\u001B[0m:\u001B[36m94\u001B[0m - \u001B[34m\u001B[1mExtracting and preparing drive graph from OSM ...\u001B[0m\n"
     ]
    },
    {
     "data": {
      "text/plain": [
       "Collecting drive graph:   0%|          | 0/2417 [00:00<?, ?it/s]"
      ],
      "application/vnd.jupyter.widget-view+json": {
       "version_major": 2,
       "version_minor": 0,
       "model_id": "8a85ad36d2524cf698f05258e6bb44a0"
      }
     },
     "metadata": {},
     "output_type": "display_data"
    },
    {
     "name": "stderr",
     "output_type": "stream",
     "text": [
      "\u001B[32m2024-05-24 16:01:15.423\u001B[0m | \u001B[34m\u001B[1mDEBUG   \u001B[0m | \u001B[36mdongraphio.base_models.grapher_logic\u001B[0m:\u001B[36mget_intermodal_graph\u001B[0m:\u001B[36m45\u001B[0m - \u001B[34m\u001B[1mPreparing union of city_graphs...\u001B[0m\n"
     ]
    },
    {
     "data": {
      "text/plain": [
       "Joining walk graph and car graph:   0%|          | 0/2417 [00:00<?, ?it/s]"
      ],
      "application/vnd.jupyter.widget-view+json": {
       "version_major": 2,
       "version_minor": 0,
       "model_id": "d0fb1b6a8fe0455e828840bf94fb6bc1"
      }
     },
     "metadata": {},
     "output_type": "display_data"
    },
    {
     "name": "stderr",
     "output_type": "stream",
     "text": [
      "\u001B[32m2024-05-24 16:01:15.721\u001B[0m | \u001B[1mINFO    \u001B[0m | \u001B[36mdongraphio.base_models.grapher_logic\u001B[0m:\u001B[36mget_intermodal_graph\u001B[0m:\u001B[36m65\u001B[0m - \u001B[1mIntermodal graph done!\n",
      "\u001B[0m\n",
      "\u001B[32m2024-05-24 16:01:15.722\u001B[0m | \u001B[1mINFO    \u001B[0m | \u001B[36mdongraphio.dongraphio\u001B[0m:\u001B[36mget_accessibility_isochrones\u001B[0m:\u001B[36m118\u001B[0m - \u001B[1mCreating accessibility isochrones based on provided graph and point...\u001B[0m\n",
      "\u001B[32m2024-05-24 16:01:15.805\u001B[0m | \u001B[34m\u001B[1mDEBUG   \u001B[0m | \u001B[36mdongraphio.base_models.isochrones_logic\u001B[0m:\u001B[36mget_accessibility_isochrone\u001B[0m:\u001B[36m57\u001B[0m - \u001B[34m\u001B[1mCalculating distances from the specified point...\u001B[0m\n",
      "\u001B[32m2024-05-24 16:01:15.873\u001B[0m | \u001B[34m\u001B[1mDEBUG   \u001B[0m | \u001B[36mdongraphio.base_models.isochrones_logic\u001B[0m:\u001B[36mget_accessibility_isochrone\u001B[0m:\u001B[36m75\u001B[0m - \u001B[34m\u001B[1mBuilding isochrones geometry...\u001B[0m\n",
      "\u001B[32m2024-05-24 16:01:15.935\u001B[0m | \u001B[1mINFO    \u001B[0m | \u001B[36mdongraphio.base_models.isochrones_logic\u001B[0m:\u001B[36mget_accessibility_isochrone\u001B[0m:\u001B[36m100\u001B[0m - \u001B[1mNo public transport node in graph\u001B[0m\n",
      "\u001B[32m2024-05-24 16:01:15.936\u001B[0m | \u001B[1mINFO    \u001B[0m | \u001B[36mdongraphio.dongraphio\u001B[0m:\u001B[36mget_accessibility_isochrones\u001B[0m:\u001B[36m127\u001B[0m - \u001B[1mAccessibility isochrones done!\n",
      "\u001B[0m\n"
     ]
    },
    {
     "data": {
      "text/plain": [
       "<folium.folium.Map at 0x29ae0fa7f50>"
      ],
      "text/html": [
       "<div style=\"width:100%;\"><div style=\"position:relative;width:100%;height:0;padding-bottom:60%;\"><span style=\"color:#565656\">Make this Notebook Trusted to load map: File -> Trust Notebook</span><iframe srcdoc=\"&lt;!DOCTYPE html&gt;\n",
       "&lt;html&gt;\n",
       "&lt;head&gt;\n",
       "    \n",
       "    &lt;meta http-equiv=&quot;content-type&quot; content=&quot;text/html; charset=UTF-8&quot; /&gt;\n",
       "    \n",
       "        &lt;script&gt;\n",
       "            L_NO_TOUCH = false;\n",
       "            L_DISABLE_3D = false;\n",
       "        &lt;/script&gt;\n",
       "    \n",
       "    &lt;style&gt;html, body {width: 100%;height: 100%;margin: 0;padding: 0;}&lt;/style&gt;\n",
       "    &lt;style&gt;#map {position:absolute;top:0;bottom:0;right:0;left:0;}&lt;/style&gt;\n",
       "    &lt;script src=&quot;https://cdn.jsdelivr.net/npm/leaflet@1.9.3/dist/leaflet.js&quot;&gt;&lt;/script&gt;\n",
       "    &lt;script src=&quot;https://code.jquery.com/jquery-3.7.1.min.js&quot;&gt;&lt;/script&gt;\n",
       "    &lt;script src=&quot;https://cdn.jsdelivr.net/npm/bootstrap@5.2.2/dist/js/bootstrap.bundle.min.js&quot;&gt;&lt;/script&gt;\n",
       "    &lt;script src=&quot;https://cdnjs.cloudflare.com/ajax/libs/Leaflet.awesome-markers/2.0.2/leaflet.awesome-markers.js&quot;&gt;&lt;/script&gt;\n",
       "    &lt;link rel=&quot;stylesheet&quot; href=&quot;https://cdn.jsdelivr.net/npm/leaflet@1.9.3/dist/leaflet.css&quot;/&gt;\n",
       "    &lt;link rel=&quot;stylesheet&quot; href=&quot;https://cdn.jsdelivr.net/npm/bootstrap@5.2.2/dist/css/bootstrap.min.css&quot;/&gt;\n",
       "    &lt;link rel=&quot;stylesheet&quot; href=&quot;https://netdna.bootstrapcdn.com/bootstrap/3.0.0/css/bootstrap.min.css&quot;/&gt;\n",
       "    &lt;link rel=&quot;stylesheet&quot; href=&quot;https://cdn.jsdelivr.net/npm/@fortawesome/fontawesome-free@6.2.0/css/all.min.css&quot;/&gt;\n",
       "    &lt;link rel=&quot;stylesheet&quot; href=&quot;https://cdnjs.cloudflare.com/ajax/libs/Leaflet.awesome-markers/2.0.2/leaflet.awesome-markers.css&quot;/&gt;\n",
       "    &lt;link rel=&quot;stylesheet&quot; href=&quot;https://cdn.jsdelivr.net/gh/python-visualization/folium/folium/templates/leaflet.awesome.rotate.min.css&quot;/&gt;\n",
       "    \n",
       "            &lt;meta name=&quot;viewport&quot; content=&quot;width=device-width,\n",
       "                initial-scale=1.0, maximum-scale=1.0, user-scalable=no&quot; /&gt;\n",
       "            &lt;style&gt;\n",
       "                #map_12c479e626a8e67efbbbe052758009bc {\n",
       "                    position: relative;\n",
       "                    width: 100.0%;\n",
       "                    height: 100.0%;\n",
       "                    left: 0.0%;\n",
       "                    top: 0.0%;\n",
       "                }\n",
       "                .leaflet-container { font-size: 1rem; }\n",
       "            &lt;/style&gt;\n",
       "        \n",
       "    \n",
       "                    &lt;style&gt;\n",
       "                        .foliumtooltip {\n",
       "                            \n",
       "                        }\n",
       "                       .foliumtooltip table{\n",
       "                            margin: auto;\n",
       "                        }\n",
       "                        .foliumtooltip tr{\n",
       "                            text-align: left;\n",
       "                        }\n",
       "                        .foliumtooltip th{\n",
       "                            padding: 2px; padding-right: 8px;\n",
       "                        }\n",
       "                    &lt;/style&gt;\n",
       "            \n",
       "&lt;/head&gt;\n",
       "&lt;body&gt;\n",
       "    \n",
       "    \n",
       "            &lt;div class=&quot;folium-map&quot; id=&quot;map_12c479e626a8e67efbbbe052758009bc&quot; &gt;&lt;/div&gt;\n",
       "        \n",
       "&lt;/body&gt;\n",
       "&lt;script&gt;\n",
       "    \n",
       "    \n",
       "            var map_12c479e626a8e67efbbbe052758009bc = L.map(\n",
       "                &quot;map_12c479e626a8e67efbbbe052758009bc&quot;,\n",
       "                {\n",
       "                    center: [56.89364306370294, 74.36821939452099],\n",
       "                    crs: L.CRS.EPSG3857,\n",
       "                    zoom: 10,\n",
       "                    zoomControl: true,\n",
       "                    preferCanvas: false,\n",
       "                }\n",
       "            );\n",
       "            L.control.scale().addTo(map_12c479e626a8e67efbbbe052758009bc);\n",
       "\n",
       "            \n",
       "\n",
       "        \n",
       "    \n",
       "            var tile_layer_67f97dfb9f6a733e614b45b752c5920c = L.tileLayer(\n",
       "                &quot;https://tile.openstreetmap.org/{z}/{x}/{y}.png&quot;,\n",
       "                {&quot;attribution&quot;: &quot;\\u0026copy; \\u003ca href=\\&quot;https://www.openstreetmap.org/copyright\\&quot;\\u003eOpenStreetMap\\u003c/a\\u003e contributors&quot;, &quot;detectRetina&quot;: false, &quot;maxNativeZoom&quot;: 19, &quot;maxZoom&quot;: 19, &quot;minZoom&quot;: 0, &quot;noWrap&quot;: false, &quot;opacity&quot;: 1, &quot;subdomains&quot;: &quot;abc&quot;, &quot;tms&quot;: false}\n",
       "            );\n",
       "        \n",
       "    \n",
       "            tile_layer_67f97dfb9f6a733e614b45b752c5920c.addTo(map_12c479e626a8e67efbbbe052758009bc);\n",
       "        \n",
       "    \n",
       "            map_12c479e626a8e67efbbbe052758009bc.fitBounds(\n",
       "                [[56.884097850044554, 74.35108281781513], [56.903188277361316, 74.38535597122686]],\n",
       "                {}\n",
       "            );\n",
       "        \n",
       "    \n",
       "        function geo_json_4297ed88c087f06f694565ae387caa9d_styler(feature) {\n",
       "            switch(feature.id) {\n",
       "                default:\n",
       "                    return {&quot;fillOpacity&quot;: 0.5, &quot;weight&quot;: 2};\n",
       "            }\n",
       "        }\n",
       "        function geo_json_4297ed88c087f06f694565ae387caa9d_highlighter(feature) {\n",
       "            switch(feature.id) {\n",
       "                default:\n",
       "                    return {&quot;fillOpacity&quot;: 0.75};\n",
       "            }\n",
       "        }\n",
       "        function geo_json_4297ed88c087f06f694565ae387caa9d_pointToLayer(feature, latlng) {\n",
       "            var opts = {&quot;bubblingMouseEvents&quot;: true, &quot;color&quot;: &quot;#3388ff&quot;, &quot;dashArray&quot;: null, &quot;dashOffset&quot;: null, &quot;fill&quot;: true, &quot;fillColor&quot;: &quot;#3388ff&quot;, &quot;fillOpacity&quot;: 0.2, &quot;fillRule&quot;: &quot;evenodd&quot;, &quot;lineCap&quot;: &quot;round&quot;, &quot;lineJoin&quot;: &quot;round&quot;, &quot;opacity&quot;: 1.0, &quot;radius&quot;: 2, &quot;stroke&quot;: true, &quot;weight&quot;: 3};\n",
       "            \n",
       "            let style = geo_json_4297ed88c087f06f694565ae387caa9d_styler(feature)\n",
       "            Object.assign(opts, style)\n",
       "            \n",
       "            return new L.CircleMarker(latlng, opts)\n",
       "        }\n",
       "\n",
       "        function geo_json_4297ed88c087f06f694565ae387caa9d_onEachFeature(feature, layer) {\n",
       "            layer.on({\n",
       "                mouseout: function(e) {\n",
       "                    if(typeof e.target.setStyle === &quot;function&quot;){\n",
       "                            geo_json_4297ed88c087f06f694565ae387caa9d.resetStyle(e.target);\n",
       "                    }\n",
       "                },\n",
       "                mouseover: function(e) {\n",
       "                    if(typeof e.target.setStyle === &quot;function&quot;){\n",
       "                        const highlightStyle = geo_json_4297ed88c087f06f694565ae387caa9d_highlighter(e.target.feature)\n",
       "                        e.target.setStyle(highlightStyle);\n",
       "                    }\n",
       "                },\n",
       "            });\n",
       "        };\n",
       "        var geo_json_4297ed88c087f06f694565ae387caa9d = L.geoJson(null, {\n",
       "                onEachFeature: geo_json_4297ed88c087f06f694565ae387caa9d_onEachFeature,\n",
       "            \n",
       "                style: geo_json_4297ed88c087f06f694565ae387caa9d_styler,\n",
       "                pointToLayer: geo_json_4297ed88c087f06f694565ae387caa9d_pointToLayer,\n",
       "        });\n",
       "\n",
       "        function geo_json_4297ed88c087f06f694565ae387caa9d_add (data) {\n",
       "            geo_json_4297ed88c087f06f694565ae387caa9d\n",
       "                .addData(data);\n",
       "        }\n",
       "            geo_json_4297ed88c087f06f694565ae387caa9d_add({&quot;bbox&quot;: [74.35108281781513, 56.884097850044554, 74.38535597122686, 56.903188277361316], &quot;features&quot;: [{&quot;bbox&quot;: [74.35108281781513, 56.884097850044554, 74.38535597122686, 56.903188277361316], &quot;geometry&quot;: {&quot;coordinates&quot;: [[[[74.35463612642818, 56.88733906094193], [74.3546336025069, 56.88733778482281], [74.35463086223206, 56.88733665026495], [74.35462793199397, 56.88733566819472], [74.35462484001243, 56.88733484806998], [74.35462161606488, 56.887334197788974], [74.35461829119963, 56.887333723614255], [74.35461489743692, 56.88733343011237], [74.35461146746049, 56.88733332010991], [74.35460803430286, 56.88733339466626], [74.35460463102713, 56.88733365306337], [74.35460129040868, 56.887334092812786], [74.35459804461944, 56.88733470967946], [74.35459492491809, 56.88733549772264], [74.35459196134903, 56.88733644935304], [74.35458918245303, 56.88733755540596], [74.35458661499236, 56.88733880522953], [74.35458428369304, 56.887340186787284], [74.35458221100681, 56.88734168677406], [74.35458041689475, 56.887343290744155], [74.35457891863517, 56.887344983250514], [74.35457773065716, 56.88734674799339], [74.35457686440164, 56.88734856797733], [74.35457632821115, 56.88735042567492], [74.35457612724957, 56.88735230319548], [74.35457626345232, 56.88735418245749], [74.3545767355077, 56.88735604536266], [74.35457753886968, 56.88735787397014], [74.35457866580141, 56.88735965066946], [74.35458010545004, 56.88736135835002], [74.35458184395095, 56.88736298056592], [74.35458386456145, 56.88736450169431], [74.354586147822, 56.88736590708588], [74.35458867174354, 56.88736718320594], [74.35459141201933, 56.887368317764725], [74.35459434225898, 56.88736929983581], [74.35459743424269, 56.887370119961325], [74.35460065819292, 56.88737077024295], [74.35460398306122, 56.88737124441814], [74.35460737682726, 56.88737153792032], [74.35461080680717, 56.88737164792292], [74.35461423996833, 56.887371573366494], [74.35461764324744, 56.887371314969116], [74.35462098386903, 56.887370875219275], [74.35462422966103, 56.88737025835202], [74.35462734936466, 56.887369470308116], [74.35463031293546, 56.88736851867688], [74.35463309183254, 56.88736741262305], [74.35463565929365, 56.887366162798536], [74.35463799059268, 56.88736478123984], [74.35464006327798, 56.88736328125215], [74.35464185738846, 56.88736167728119], [74.35464335564588, 56.887359984774065], [74.35464454362122, 56.88735822003056], [74.35464540987368, 56.88735640004616], [74.35464594606083, 56.88735454234827], [74.35464614701893, 56.88735266482758], [74.35464601081269, 56.88735078556563], [74.3546455387539, 56.88734892266072], [74.3546447353888, 56.88734709405367], [74.3546436084543, 56.88734531735493], [74.35464216880338, 56.88734360967509], [74.35464043030075, 56.88734198746004], [74.35463840968914, 56.887340466332546], [74.35463612642818, 56.88733906094193]]], [[[74.35512970314522, 56.88730771838929], [74.35502654395592, 56.887368852727754], [74.35493482814175, 56.88743522743445], [74.35485543900275, 56.887506203310636], [74.3547891411444, 56.88758109684393], [74.35473657311236, 56.88765918678995], [74.35469824124067, 56.8877397211175], [74.35467451477243, 56.8878219242503], [74.35466738268211, 56.887888557733405], [74.35449345695483, 56.887991626648834], [74.35374571021765, 56.88853274396536], [74.3530984406748, 56.88911136994695], [74.35255788485453, 56.889721933710774], [74.35212925266302, 56.89035855660867], [74.3520794761931, 56.89046311164274], [74.35177137083646, 56.89092070618699], [74.3513994283073, 56.891701924667984], [74.35116916850534, 56.892499334461284], [74.35108281781513, 56.89330525687636], [74.35114121709645, 56.89411193075669], [74.35127421462187, 56.894636882078146], [74.35128436111731, 56.89477702437793], [74.3515097379677, 56.89566656614099], [74.35189336429151, 56.8965397338693], [74.35243155585916, 56.897388117076], [74.35272873000929, 56.897740550178675], [74.35295613833205, 56.898099006777656], [74.35356706326624, 56.898823495751984], [74.35430484143089, 56.89951172383757], [74.35516237209886, 56.90015706086813], [74.35613139962652, 56.900753289543566], [74.35720259285053, 56.90129466539636], [74.35836563490948, 56.90177597220848], [74.359609322627, 56.90219257234151], [74.36092167449834, 56.902540451491554], [74.36229004623691, 56.902816257434495], [74.36370125276157, 56.903017332384984], [74.36514169544216, 56.90314173865486], [74.36659749336697, 56.903188277361316], [74.36805461735665, 56.9031565000029], [74.36890814084326, 56.90309162710584], [74.36942501627288, 56.90308034729323], [74.37105071180605, 56.90295676104885], [74.37264642396087, 56.902746562299754], [74.37419677485435, 56.9024517767822], [74.37427677168718, 56.90243156245207], [74.37458409116876, 56.90237312527625], [74.37495639394835, 56.90227904618743], [74.37497145039363, 56.9022770624154], [74.37624173508316, 56.90203550121102], [74.37689211585668, 56.90187114016845], [74.37749937192488, 56.90175565277442], [74.37856108973071, 56.90148732315305], [74.3795696115262, 56.90116333452275], [74.380056645601, 56.90096940761712], [74.38018070177013, 56.90095996626852], [74.38040040785769, 56.90093100778483], [74.3806138682482, 56.90089040475039], [74.38081902702926, 56.90083854823115], [74.38101390826708, 56.90077593767883], [74.38119663504143, 56.900703176118974], [74.38136544752547, 56.90062096434167], [74.38151871993645, 56.90053009415041], [74.38165497619396, 56.90043144073412], [74.38177290413468, 56.90032595423654], [74.38187136814699, 56.90021465060352], [74.38194942010375, 56.90009860179686], [74.3819954885249, 56.900001687531514], [74.38218196833726, 56.89989112577837], [74.38288705262819, 56.89938059825084], [74.38337924299141, 56.89894029909456], [74.38360708820656, 56.89888269909146], [74.38386122942357, 56.89880103770789], [74.38409951855401, 56.89870613780035], [74.3843034361449, 56.89860681588111], [74.38430375178285, 56.89860753275017], [74.38430911301154, 56.898615970800265], [74.38431595983684, 56.89862408065862], [74.38432422632084, 56.8986317842226], [74.38433383285334, 56.89863900730243], [74.38434468691855, 56.8986456803356], [74.384356683986, 56.89865173905685], [74.3843697085173, 56.898657125117076], [74.38438363507878, 56.89866178664524], [74.38439832954953, 56.898665678748046], [74.38441365041307, 56.89866876394214], [74.3844294501202, 56.89867101251523], [74.38444557651015, 56.89867240281217], [74.38446187427587, 56.898672921443534], [74.38447818645984, 56.89867256341459], [74.38449435596566, 56.89867133217337], [74.38451022707105, 56.89866923957749], [74.38452564692759, 56.89866630577992], [74.38454046703269, 56.89866255903493], [74.38455454465993, 56.89865803542596], [74.38456774423351, 56.89865277851812], [74.38457993863395, 56.89864683893857], [74.38459101042237, 56.898640273889036], [74.38459529497848, 56.898637171309865], [74.38460760432943, 56.898638923127145], [74.38466786608231, 56.898644118350724], [74.38472876822811, 56.898646056275005], [74.38478972423007, 56.8986447182362], [74.38485014703264, 56.898640117120664], [74.38490945471585, 56.898632297240795], [74.38496707610007, 56.89862133390826], [74.38502245624731, 56.89860733270863], [74.3850750618061, 56.898590428484376], [74.38512438614836, 56.89857078403618], [74.3851699542487, 56.89854858855496], [74.38521132725951, 56.89852405579961], [74.38524810673731, 56.89849742203834], [74.38527993847991, 56.89846894377296], [74.38530651593743, 56.898438895268654], [74.38532758316428, 56.898407565912365], [74.38534293728365, 56.89837525742571], [74.3853524304409, 56.898342280959284], [74.38535597122686, 56.89830895409582], [74.38535352555766, 56.89827559779175], [74.38534511700237, 56.898242533286236], [74.3853308265553, 56.898210079007356], [74.38531079185552, 56.898178547505644], [74.38528520586067, 56.898148242444016], [74.38525431498825, 56.898119455673495], [74.38521841674206, 56.89809246442267], [74.38517785684682, 56.898067528627884], [74.3851330259184, 56.898044888430206], [74.38508435570193, 56.89802476186277], [74.38503231491389, 56.89800734275125], [74.38502258160463, 56.89800476472002], [74.38508116915659, 56.89791763833134], [74.38515534448541, 56.89776155660207], [74.38520120566542, 56.89760224780183], [74.38521831138218, 56.897441246193345], [74.38520649726776, 56.89728010232265], [74.3851658774697, 56.897120368085915], [74.3850968435373, 56.896963581784334], [74.3850967550318, 56.8969634424844], [74.38509913384844, 56.89695517904519], [74.38510287420557, 56.896919974611905], [74.38510029107736, 56.89688473906706], [74.3850914093585, 56.89684981174789], [74.38507631460193, 56.89681552902227], [74.38507431686362, 56.89681238474124], [74.38507678747243, 56.89678913130244], [74.38505756935301, 56.89652697883407], [74.38499149066745, 56.89626711952489], [74.38494882522683, 56.89617021686862], [74.38493827110281, 56.89602624064763], [74.38493056469889, 56.895995934047185], [74.38495479534684, 56.89576787615867], [74.38490792473581, 56.89512846826882], [74.38477475252508, 56.89460472750197], [74.38476084731309, 56.894415017236575], [74.38475235518786, 56.8943816186249], [74.38471105914287, 56.893818199312285], [74.38462969175538, 56.89349818101867], [74.38462206888008, 56.89339417325284], [74.3846077055093, 56.8933376812852], [74.38459405797754, 56.89315146950256], [74.38436790926907, 56.89226198548529], [74.3839835679347, 56.89138891539826], [74.38344474568147, 56.890540665976], [74.38339582076895, 56.89048270140174], [74.38306591630115, 56.88996332203938], [74.38273537447526, 56.8895716917463], [74.38268886091375, 56.88949846080201], [74.3826864448134, 56.88949559813061], [74.38250500699603, 56.88920993950891], [74.38248119701798, 56.88918172826397], [74.38246182431415, 56.8891512272377], [74.38240602361616, 56.888931683794844], [74.38228510996917, 56.88865696197998], [74.38223043464724, 56.88857087721345], [74.38222038051859, 56.888531318647516], [74.3821211971466, 56.88830596433193], [74.38198213884642, 56.88808701637177], [74.38180454543003, 56.88787658322715], [74.38159012771948, 56.88767669132619], [74.38134095105154, 56.88748926555537], [74.38105941537285, 56.88731611072896], [74.38105786648624, 56.88731532820312], [74.38099010569681, 56.887252155640724], [74.3806805281301, 56.887019290221], [74.38064304690477, 56.8869341177176], [74.38052994964745, 56.88675602685895], [74.38052175453616, 56.88674631551892], [74.38051606591196, 56.88672392813554], [74.38045551873952, 56.88658633774758], [74.38037062663697, 56.88645265845246], [74.380262207387, 56.886324177607], [74.38013130531282, 56.886202132493075], [74.37997918121344, 56.88608769840408], [74.37980730021627, 56.8859819773289], [74.37961731766359, 56.88588598734193], [74.37941106316944, 56.885800652801535], [74.37919052300026, 56.88572679545083], [74.37895782094903, 56.88566512650685], [74.37892648675084, 56.885658812939], [74.37875571993344, 56.88545643196934], [74.37853959285864, 56.885254912938485], [74.37828842607993, 56.885065960331495], [74.37800463871376, 56.88489139366364], [74.3776909638812, 56.88473289389655], [74.37735042238297, 56.88459198725778], [74.37698629360976, 56.88447003055043], [74.37660208396791, 56.88436819809444], [74.37620149312443, 56.88428747042432], [74.37578837839571, 56.884228624852696], [74.37536671762214, 56.884192227989594], [74.37494057088556, 56.884178630289775], [74.3747357458587, 56.88418311200818], [74.37464553530725, 56.88417026105454], [74.37440798085115, 56.884149753783646], [74.37416789862485, 56.88414209144525], [74.37405819748481, 56.884144491149875], [74.3737582659021, 56.88411859753221], [74.37310833017732, 56.884097850044554], [74.37245780909691, 56.88411207322802], [74.37181296572373, 56.8841611301411], [74.3712222272148, 56.88423898451753], [74.37119244884728, 56.88423963522178], [74.37035533819915, 56.884303309468585], [74.36953365505168, 56.8844115890001], [74.36873530993216, 56.8845634313983], [74.36864030051946, 56.88458744577267], [74.3685386261158, 56.884600842940635], [74.36790972205671, 56.88472045255468], [74.36769302601292, 56.884749004038945], [74.36725159333025, 56.884832955689106], [74.36645481764613, 56.88485033837636], [74.36482989397113, 56.88497386687493], [74.36323489682694, 56.88518396798274], [74.3616851766191, 56.885478619715826], [74.36092542884744, 56.88567059226549], [74.36049115995151, 56.88575315309467], [74.35915212556529, 56.88609147691234], [74.35913237387884, 56.886097820547946], [74.35833217717479, 56.88629999029276], [74.35726312355207, 56.88664331854157], [74.35647559551181, 56.8869567960441], [74.35636120842094, 56.88698569277422], [74.35610782890838, 56.887067060518135], [74.35610630430465, 56.88706766737185], [74.35607749750064, 56.88706829330339], [74.3559269040081, 56.88707972906211], [74.35577908324626, 56.88709918945646], [74.3556354587215, 56.88712648708425], [74.35549741353847, 56.887161359070966], [74.35536627708325, 56.887203469600635], [74.35524331222285, 56.88725241314926], [74.35512970314522, 56.88730771838929]]]], &quot;type&quot;: &quot;MultiPolygon&quot;}, &quot;id&quot;: &quot;0&quot;, &quot;properties&quot;: {&quot;point&quot;: &quot;POINT (461525 6305709)&quot;, &quot;travel_type&quot;: &quot;[\\u0027\\u041e\\u0431\\u0449\\u0435\\u0441\\u0442\\u0432\\u0435\\u043d\\u043d\\u044b\\u0439 \\u0442\\u0440\\u0430\\u043d\\u0441\\u043f\\u043e\\u0440\\u0442\\u0027, \\u0027\\u041f\\u0435\\u0448\\u043a\\u043e\\u043c\\u0027]&quot;, &quot;weight_type&quot;: &quot;time_min&quot;, &quot;weight_value&quot;: 20}, &quot;type&quot;: &quot;Feature&quot;}], &quot;type&quot;: &quot;FeatureCollection&quot;});\n",
       "\n",
       "        \n",
       "    \n",
       "    geo_json_4297ed88c087f06f694565ae387caa9d.bindTooltip(\n",
       "    function(layer){\n",
       "    let div = L.DomUtil.create(&#x27;div&#x27;);\n",
       "    \n",
       "    let handleObject = feature=&gt;typeof(feature)==&#x27;object&#x27; ? JSON.stringify(feature) : feature;\n",
       "    let fields = [&quot;point&quot;, &quot;travel_type&quot;, &quot;weight_type&quot;, &quot;weight_value&quot;];\n",
       "    let aliases = [&quot;point&quot;, &quot;travel_type&quot;, &quot;weight_type&quot;, &quot;weight_value&quot;];\n",
       "    let table = &#x27;&lt;table&gt;&#x27; +\n",
       "        String(\n",
       "        fields.map(\n",
       "        (v,i)=&gt;\n",
       "        `&lt;tr&gt;\n",
       "            &lt;th&gt;${aliases[i]}&lt;/th&gt;\n",
       "            \n",
       "            &lt;td&gt;${handleObject(layer.feature.properties[v])}&lt;/td&gt;\n",
       "        &lt;/tr&gt;`).join(&#x27;&#x27;))\n",
       "    +&#x27;&lt;/table&gt;&#x27;;\n",
       "    div.innerHTML=table;\n",
       "    \n",
       "    return div\n",
       "    }\n",
       "    ,{&quot;className&quot;: &quot;foliumtooltip&quot;, &quot;sticky&quot;: true});\n",
       "                     \n",
       "    \n",
       "            geo_json_4297ed88c087f06f694565ae387caa9d.addTo(map_12c479e626a8e67efbbbe052758009bc);\n",
       "        \n",
       "&lt;/script&gt;\n",
       "&lt;/html&gt;\" style=\"position:absolute;width:100%;height:100%;left:0;top:0;border:none !important;\" allowfullscreen webkitallowfullscreen mozallowfullscreen></iframe></div></div>"
      ]
     },
     "execution_count": 1,
     "metadata": {},
     "output_type": "execute_result"
    }
   ],
   "execution_count": 1
  },
  {
   "metadata": {},
   "cell_type": "code",
   "outputs": [],
   "execution_count": null,
   "source": "",
   "id": "b4390187dd28616f"
  }
 ],
 "metadata": {
  "kernelspec": {
   "display_name": "Python 3",
   "language": "python",
   "name": "python3"
  },
  "language_info": {
   "codemirror_mode": {
    "name": "ipython",
    "version": 2
   },
   "file_extension": ".py",
   "mimetype": "text/x-python",
   "name": "python",
   "nbconvert_exporter": "python",
   "pygments_lexer": "ipython2",
   "version": "2.7.6"
  }
 },
 "nbformat": 4,
 "nbformat_minor": 5
}
