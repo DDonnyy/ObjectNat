{
 "cells": [
  {
   "cell_type": "markdown",
   "source": [
    "Intermodal nx_graph can be loaded from OSM [example](graph_generator.ipynb)"
   ],
   "metadata": {
    "collapsed": false
   },
   "id": "9b12442ea2f9f508"
  },
  {
   "cell_type": "code",
   "execution_count": null,
   "outputs": [],
   "source": [
    "from shapely import Point\n",
    "from objectnat import get_accessibility_isochrones,GraphType\n",
    "from objectnat import get_intermodal_graph_from_osm\n",
    "graph = get_intermodal_graph_from_osm(city_osm_id=1114252, city_crs=32636)"
   ],
   "metadata": {
    "collapsed": false
   },
   "id": "df20dec8ac67c8da"
  },
  {
   "metadata": {},
   "cell_type": "code",
   "source": [
    "import geopandas as gpd\n",
    "points = gpd.GeoSeries([Point(347111,6647736),Point(347611,6647336),Point(347612,6647336)])\n",
    "accessibility_isochrones, public_transport_routes, public_transport_stops = get_accessibility_isochrones(\n",
    "    graph_type=[GraphType.PUBLIC_TRANSPORT, GraphType.WALK],\n",
    "    points=points,\n",
    "    weight_value=10,\n",
    "    weight_type=\"time_min\",\n",
    "    city_graph=graph,\n",
    "    city_crs=32636,\n",
    ")\n",
    "m1 = accessibility_isochrones.explore(column = 'point_number',cmap = \"viridis_r\",categorical=True)\n",
    "public_transport_routes.explore(m=m1,color='red') # if not None\n",
    "public_transport_stops.explore(m=m1,color='purple')\n",
    "points.explore(m=m1)# if not None\n",
    "m1"
   ],
   "id": "3b1ccf941e85ae09",
   "outputs": [],
   "execution_count": null
  },
  {
   "metadata": {},
   "cell_type": "code",
   "source": [],
   "id": "f71a6d15e3dc7eed",
   "outputs": [],
   "execution_count": null
  }
 ],
 "metadata": {
  "kernelspec": {
   "display_name": "Python 3",
   "language": "python",
   "name": "python3"
  },
  "language_info": {
   "codemirror_mode": {
    "name": "ipython",
    "version": 2
   },
   "file_extension": ".py",
   "mimetype": "text/x-python",
   "name": "python",
   "nbconvert_exporter": "python",
   "pygments_lexer": "ipython2",
   "version": "2.7.6"
  }
 },
 "nbformat": 4,
 "nbformat_minor": 5
}
