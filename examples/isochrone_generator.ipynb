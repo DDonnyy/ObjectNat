{
 "cells": [
  {
   "cell_type": "markdown",
   "source": [
    "Intermodal nx_graph can be loaded from OSM [example](graph_generator.ipynb)"
   ],
   "metadata": {
    "collapsed": false
   },
   "id": "9b12442ea2f9f508"
  },
  {
   "cell_type": "code",
   "execution_count": null,
   "id": "initial_id",
   "metadata": {
    "collapsed": true
   },
   "outputs": [],
   "source": [
    "from objectnat import get_accessibility_isochrones,GraphType\n",
    "from objectnat import get_intermodal_graph_from_osm\n",
    "import networkx as nx\n",
    "graph = get_intermodal_graph_from_osm(city_osm_id=7226665, city_crs=32643)\n",
    "accessibility_isochrones, public_transport_routes, public_transport_stops = get_accessibility_isochrones(\n",
    "    graph_type=[GraphType.PUBLIC_TRANSPORT, GraphType.WALK],\n",
    "    x_from=461525,\n",
    "    y_from=6305709,\n",
    "    weight_value=20,\n",
    "    weight_type=\"time_min\",\n",
    "    city_graph=graph,\n",
    "    city_crs=32643,\n",
    ")\n",
    "\n",
    "# Visualize data\n",
    "m1 = accessibility_isochrones.explore()\n",
    "public_transport_routes.explore(m=m1)\n",
    "public_transport_stops.explore(m=m1)\n",
    "m1"
   ]
  }
 ],
 "metadata": {
  "kernelspec": {
   "display_name": "Python 3",
   "language": "python",
   "name": "python3"
  },
  "language_info": {
   "codemirror_mode": {
    "name": "ipython",
    "version": 2
   },
   "file_extension": ".py",
   "mimetype": "text/x-python",
   "name": "python",
   "nbconvert_exporter": "python",
   "pygments_lexer": "ipython2",
   "version": "2.7.6"
  }
 },
 "nbformat": 4,
 "nbformat_minor": 5
}
