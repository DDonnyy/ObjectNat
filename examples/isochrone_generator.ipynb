{
 "cells": [
  {
   "cell_type": "markdown",
   "source": [
    "Intermodal nx_graph can be loaded from OSM [example](graph_generator.ipynb)"
   ],
   "metadata": {
    "collapsed": false
   },
   "id": "9b12442ea2f9f508"
  },
  {
   "cell_type": "code",
   "id": "initial_id",
   "metadata": {
    "collapsed": true
   },
   "source": [
    "from shapely import Point\n",
    "from objectnat import get_accessibility_isochrones,GraphType\n",
    "from objectnat import get_intermodal_graph_from_osm\n",
    "import networkx as nx\n",
    "graph = get_intermodal_graph_from_osm(city_osm_id=1124722, city_crs=32636,keep_city_boundary=True)\n",
    "accessibility_isochrones, public_transport_routes, public_transport_stops = get_accessibility_isochrones(\n",
    "    graph_type=[GraphType.WALK],\n",
    "    points=Point(347490, 6647365),\n",
    "    weight_value=10,\n",
    "    weight_type=\"time_min\",\n",
    "    city_graph=graph,\n",
    "    city_crs=32636,\n",
    ")\n"
   ],
   "outputs": [],
   "execution_count": null
  },
  {
   "metadata": {},
   "cell_type": "code",
   "outputs": [],
   "execution_count": null,
   "source": [
    "m1 = accessibility_isochrones.explore()\n",
    "# public_transport_routes.explore(m=m1) # if not None\n",
    "# public_transport_stops.explore(m=m1)  # if not None\n",
    "m1"
   ],
   "id": "b4390187dd28616f"
  },
  {
   "cell_type": "code",
   "execution_count": null,
   "outputs": [],
   "source": [],
   "metadata": {
    "collapsed": false
   },
   "id": "29e472d60a0b90f"
  }
 ],
 "metadata": {
  "kernelspec": {
   "display_name": "Python 3",
   "language": "python",
   "name": "python3"
  },
  "language_info": {
   "codemirror_mode": {
    "name": "ipython",
    "version": 2
   },
   "file_extension": ".py",
   "mimetype": "text/x-python",
   "name": "python",
   "nbconvert_exporter": "python",
   "pygments_lexer": "ipython2",
   "version": "2.7.6"
  }
 },
 "nbformat": 4,
 "nbformat_minor": 5
}
