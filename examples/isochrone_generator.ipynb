{
 "cells": [
  {
   "cell_type": "code",
   "source": [
    "from objectnat import get_intermodal_graph\n",
    "\n",
    "# Importing the necessary libraries:\n",
    "# - 'get_intermodal_graph' from 'objectnat' to work with intermodal graphs\n",
    "# - 'geopandas' for handling geospatial data\n",
    "\n",
    "G_intermodal = get_intermodal_graph(osm_id=1114252)\n",
    "# Retrieving the intermodal graph for a specific region using OSM ID 1114252. This graph includes transportation networks\n",
    "# (such as roads, public transport routes) for a given area."
   ],
   "metadata": {
    "collapsed": false
   },
   "id": "df20dec8ac67c8da",
   "outputs": [],
   "execution_count": null
  },
  {
   "metadata": {},
   "cell_type": "code",
   "source": [
    "from shapely import Point\n",
    "import geopandas as gpd\n",
    "from objectnat import get_accessibility_isochrones\n",
    "\n",
    "# - 'get_accessibility_isochrones' from 'objectnat' to work with isochrones\n",
    "# - 'geopandas' for handling geospatial data\n",
    "\n",
    "points = gpd.GeoDataFrame(geometry=[Point(30.295606, 59.9439234)], crs=4326).to_crs(G_intermodal.graph['crs'])\n",
    "# Creating a GeoDataFrame containing a point of interest (with longitude 30.295606 and latitude 59.9439234).\n",
    "# The point is initially in EPSG:4326 (WGS84, commonly used for GPS coordinates), and then reprojected to match the CRS\n",
    "# of the intermodal graph\n",
    "\n",
    "isochrones, stops, routes = get_accessibility_isochrones(\n",
    "    points=points,\n",
    "    weight_type=\"time_min\",\n",
    "    weight_value=10,\n",
    "    graph_nx=G_intermodal\n",
    ")\n",
    "# Calculating isochrones (zones of accessibility) from the specified points.\n",
    "# - 'weight_type' is set to 'time_min', meaning the isochrones represent areas that can be reached within a specific time.\n",
    "# - 'weight_value' is set to 10, indicating a maximum travel time of 10 minutes.\n",
    "# - 'graph_nx' is the intermodal graph used to calculate accessibility.\n",
    "# The function returns:\n",
    "# - 'isochrones': polygons representing areas reachable from the points within the specified time limit\n",
    "# - 'stops': public transport stops within the isochrones, if any\n",
    "# - 'routes': public transport routes within or crossing the isochrones, if any\n",
    "\n",
    "# Visualization\n",
    "m = isochrones.explore(tiles='CartoDB positron')\n",
    "stops.explore(m=m)\n",
    "routes.explore(m=m, column='type')"
   ],
   "id": "f71a6d15e3dc7eed",
   "execution_count": null,
   "outputs": []
  }
 ],
 "metadata": {
  "kernelspec": {
   "display_name": "Python 3",
   "language": "python",
   "name": "python3"
  },
  "language_info": {
   "codemirror_mode": {
    "name": "ipython",
    "version": 2
   },
   "file_extension": ".py",
   "mimetype": "text/x-python",
   "name": "python",
   "nbconvert_exporter": "python",
   "pygments_lexer": "ipython2",
   "version": "2.7.6"
  }
 },
 "nbformat": 4,
 "nbformat_minor": 5
}
