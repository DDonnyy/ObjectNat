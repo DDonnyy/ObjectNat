{
 "cells": [
  {
   "cell_type": "markdown",
   "source": [
    "For the resettlement of the area, it is necessary for the `buildings` data to have an attribute `storeys_count` representing the number of floors, or `living_area` representing the living area of each building."
   ],
   "metadata": {
    "collapsed": false
   },
   "id": "7f184f2154064a55"
  },
  {
   "cell_type": "code",
   "execution_count": 2,
   "outputs": [
    {
     "name": "stderr",
     "output_type": "stream",
     "text": [
      "\u001B[32m2024-03-07 16:16:23.732\u001B[0m | \u001B[34m\u001B[1mDEBUG   \u001B[0m | \u001B[36msrc.objectnat.main\u001B[0m:\u001B[36mget_balanced_buildings\u001B[0m:\u001B[36m49\u001B[0m - \u001B[34m\u001B[1mEvacuating 28000 residents into the provided building\u001B[0m\n",
      "\u001B[32m2024-03-07 16:16:23.735\u001B[0m | \u001B[34m\u001B[1mDEBUG   \u001B[0m | \u001B[36mpopulation_restorator.balancer.houses\u001B[0m:\u001B[36mbalance_houses\u001B[0m:\u001B[36m38\u001B[0m - \u001B[34m\u001B[1mPerforming buildings population balancing (6166 houses, total living area =  883477.6 for population of  28000) for territory 'city'\u001B[0m\n"
     ]
    },
    {
     "data": {
      "text/plain": "      building_id  storeys_count  \\\n0         1721225              2   \n1         1721201              1   \n2         1721203              1   \n3         1721204              1   \n4         1721214              1   \n...           ...            ...   \n6161      1730547              1   \n6162      1730548              1   \n6163      1721226              2   \n6164      1721227              2   \n6165      1721245              3   \n\n                                               geometry  living_area  \\\n0     MULTIPOLYGON (((460181.825 6308316.388, 460190...   993.775772   \n1     MULTIPOLYGON (((462421.195 6306447.969, 462432...   152.167256   \n2     MULTIPOLYGON (((462121.349 6306509.239, 462148...   326.988551   \n3     MULTIPOLYGON (((462543.205 6306410.625, 462556...   184.970075   \n4     MULTIPOLYGON (((461691.623 6306724.978, 461716...   234.381542   \n...                                                 ...          ...   \n6161  MULTIPOLYGON (((457521.804 6305418.857, 457538...   179.664558   \n6162  MULTIPOLYGON (((457490.636 6305421.309, 457471...   312.191123   \n6163  MULTIPOLYGON (((460255.368 6308381.231, 460262...   569.214226   \n6164  MULTIPOLYGON (((460116.956 6308313.881, 460151...  1266.526538   \n6165  MULTIPOLYGON (((460846.782 6307928.730, 460880...  1708.365997   \n\n      population  \n0             27  \n1              3  \n2             12  \n3              5  \n4              8  \n...          ...  \n6161           6  \n6162           7  \n6163          14  \n6164          40  \n6165          50  \n\n[6166 rows x 5 columns]",
      "text/html": "<div>\n<style scoped>\n    .dataframe tbody tr th:only-of-type {\n        vertical-align: middle;\n    }\n\n    .dataframe tbody tr th {\n        vertical-align: top;\n    }\n\n    .dataframe thead th {\n        text-align: right;\n    }\n</style>\n<table border=\"1\" class=\"dataframe\">\n  <thead>\n    <tr style=\"text-align: right;\">\n      <th></th>\n      <th>building_id</th>\n      <th>storeys_count</th>\n      <th>geometry</th>\n      <th>living_area</th>\n      <th>population</th>\n    </tr>\n  </thead>\n  <tbody>\n    <tr>\n      <th>0</th>\n      <td>1721225</td>\n      <td>2</td>\n      <td>MULTIPOLYGON (((460181.825 6308316.388, 460190...</td>\n      <td>993.775772</td>\n      <td>27</td>\n    </tr>\n    <tr>\n      <th>1</th>\n      <td>1721201</td>\n      <td>1</td>\n      <td>MULTIPOLYGON (((462421.195 6306447.969, 462432...</td>\n      <td>152.167256</td>\n      <td>3</td>\n    </tr>\n    <tr>\n      <th>2</th>\n      <td>1721203</td>\n      <td>1</td>\n      <td>MULTIPOLYGON (((462121.349 6306509.239, 462148...</td>\n      <td>326.988551</td>\n      <td>12</td>\n    </tr>\n    <tr>\n      <th>3</th>\n      <td>1721204</td>\n      <td>1</td>\n      <td>MULTIPOLYGON (((462543.205 6306410.625, 462556...</td>\n      <td>184.970075</td>\n      <td>5</td>\n    </tr>\n    <tr>\n      <th>4</th>\n      <td>1721214</td>\n      <td>1</td>\n      <td>MULTIPOLYGON (((461691.623 6306724.978, 461716...</td>\n      <td>234.381542</td>\n      <td>8</td>\n    </tr>\n    <tr>\n      <th>...</th>\n      <td>...</td>\n      <td>...</td>\n      <td>...</td>\n      <td>...</td>\n      <td>...</td>\n    </tr>\n    <tr>\n      <th>6161</th>\n      <td>1730547</td>\n      <td>1</td>\n      <td>MULTIPOLYGON (((457521.804 6305418.857, 457538...</td>\n      <td>179.664558</td>\n      <td>6</td>\n    </tr>\n    <tr>\n      <th>6162</th>\n      <td>1730548</td>\n      <td>1</td>\n      <td>MULTIPOLYGON (((457490.636 6305421.309, 457471...</td>\n      <td>312.191123</td>\n      <td>7</td>\n    </tr>\n    <tr>\n      <th>6163</th>\n      <td>1721226</td>\n      <td>2</td>\n      <td>MULTIPOLYGON (((460255.368 6308381.231, 460262...</td>\n      <td>569.214226</td>\n      <td>14</td>\n    </tr>\n    <tr>\n      <th>6164</th>\n      <td>1721227</td>\n      <td>2</td>\n      <td>MULTIPOLYGON (((460116.956 6308313.881, 460151...</td>\n      <td>1266.526538</td>\n      <td>40</td>\n    </tr>\n    <tr>\n      <th>6165</th>\n      <td>1721245</td>\n      <td>3</td>\n      <td>MULTIPOLYGON (((460846.782 6307928.730, 460880...</td>\n      <td>1708.365997</td>\n      <td>50</td>\n    </tr>\n  </tbody>\n</table>\n<p>6166 rows × 5 columns</p>\n</div>"
     },
     "execution_count": 2,
     "metadata": {},
     "output_type": "execute_result"
    }
   ],
   "source": [
    "from src.objectnat import get_balanced_buildings\n",
    "import geopandas as gpd\n",
    "\n",
    "buildings = gpd.read_file(\"examples_data/tara_buildings.geojson\")\n",
    "buildings.drop(columns=[\"demand\"],inplace=True)  # Removing the 'demand' column, necessary for other examples \n",
    "buildings.to_crs(32643,inplace=True) # Use the local coordinate system for accurate calculation of polygon areas\n",
    "balanced_buildings = get_balanced_buildings(living_buildings=buildings,population=28000)\n",
    "balanced_buildings"
   ],
   "metadata": {
    "collapsed": false,
    "ExecuteTime": {
     "end_time": "2024-03-07T13:16:23.777391400Z",
     "start_time": "2024-03-07T13:16:23.124080500Z"
    }
   },
   "id": "4e08f22cefdf829f"
  },
  {
   "cell_type": "code",
   "execution_count": null,
   "outputs": [],
   "source": [],
   "metadata": {
    "collapsed": false
   },
   "id": "c9efadbb5cd6217c"
  }
 ],
 "metadata": {
  "kernelspec": {
   "display_name": "Python 3",
   "language": "python",
   "name": "python3"
  },
  "language_info": {
   "codemirror_mode": {
    "name": "ipython",
    "version": 2
   },
   "file_extension": ".py",
   "mimetype": "text/x-python",
   "name": "python",
   "nbconvert_exporter": "python",
   "pygments_lexer": "ipython2",
   "version": "2.7.6"
  }
 },
 "nbformat": 4,
 "nbformat_minor": 5
}
