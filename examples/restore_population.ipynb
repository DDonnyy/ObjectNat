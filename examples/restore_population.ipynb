{
 "cells": [
  {
   "cell_type": "markdown",
   "source": [
    "## Explanation:\n",
    "#### For the resettlement of the area, it is necessary for the `buildings` dataset to include either:\n",
    "#### - `storeys_count`: representing the number of floors in each building\n",
    "#### - `living_area`: representing the total living area of each building\n",
    "#### \n",
    "#### The script will compare the actual number of residents (`resident_number`) and the newly assigned `population` attribute \n",
    "#### after the redistribution process.\n"
   ],
   "metadata": {
    "collapsed": false
   },
   "id": "7f184f2154064a55"
  },
  {
   "cell_type": "code",
   "source": [
    "from objectnat import get_balanced_buildings\n",
    "import geopandas as gpd\n",
    "\n",
    "# Importing the necessary libraries:\n",
    "# - 'get_balanced_buildings' from 'objectnat' to balance the population across buildings\n",
    "# - 'geopandas' for handling geospatial data\n",
    "\n",
    "buildings = gpd.read_parquet(\"examples_data/buildings.parquet\")\n",
    "# Loading building data from a .parquet file.\n",
    "\n",
    "living_building = buildings[buildings['is_living']]\n",
    "# Filtering the buildings to include only residential buildings, based on the 'is_living' attribute.\n",
    "\n",
    "buildings.to_crs(32636, inplace=True)\n",
    "# Reprojecting the buildings' geometries to the local coordinate system EPSG:32636 (UTM zone) \n",
    "# to ensure accurate calculation of areas for balancing the population.\n",
    "\n",
    "balanced_buildings = get_balanced_buildings(living_buildings=living_building, population=200000)\n",
    "# Balancing the population distribution across the residential buildings.\n",
    "# - 'living_buildings': a GeoDataFrame of only the residential buildings.\n",
    "# - 'population': the total population (36000) to distribute across the buildings.\n",
    "# The result is a GeoDataFrame where the population is redistributed based on building attributes (like floor count or living area).\n",
    "\n",
    "balanced_buildings"
   ],
   "metadata": {
    "collapsed": false
   },
   "id": "4e08f22cefdf829f",
   "outputs": [],
   "execution_count": null
  }
 ],
 "metadata": {
  "kernelspec": {
   "display_name": "Python 3",
   "language": "python",
   "name": "python3"
  },
  "language_info": {
   "codemirror_mode": {
    "name": "ipython",
    "version": 2
   },
   "file_extension": ".py",
   "mimetype": "text/x-python",
   "name": "python",
   "nbconvert_exporter": "python",
   "pygments_lexer": "ipython2",
   "version": "2.7.6"
  }
 },
 "nbformat": 4,
 "nbformat_minor": 5
}
