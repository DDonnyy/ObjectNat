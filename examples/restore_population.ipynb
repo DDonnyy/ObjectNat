{
 "cells": [
  {
   "cell_type": "markdown",
   "source": [
    "For the resettlement of the area, it is necessary for the `buildings` data to have an attribute `storeys_count` representing the number of floors, or `living_area` representing the living area of each building.\n",
    "\n",
    "You can compare the actual number of residents in each house in the \"resident_number\" column and in the new \"population\" column\n"
   ],
   "metadata": {
    "collapsed": false
   },
   "id": "7f184f2154064a55"
  },
  {
   "cell_type": "code",
   "source": [
    "from objectnat import get_balanced_buildings\n",
    "import geopandas as gpd\n",
    "\n",
    "buildings = gpd.read_parquet(\"examples_data/spb_buildings.parquet\")\n",
    "living_building = buildings[buildings['is_living']]\n",
    "buildings.to_crs(32643,inplace=True) # Use the local coordinate system for accurate calculation of polygon areas\n",
    "balanced_buildings = get_balanced_buildings(living_buildings=living_building,population=36000)\n",
    "balanced_buildings"
   ],
   "metadata": {
    "collapsed": false
   },
   "id": "4e08f22cefdf829f",
   "outputs": [],
   "execution_count": null
  }
 ],
 "metadata": {
  "kernelspec": {
   "display_name": "Python 3",
   "language": "python",
   "name": "python3"
  },
  "language_info": {
   "codemirror_mode": {
    "name": "ipython",
    "version": 2
   },
   "file_extension": ".py",
   "mimetype": "text/x-python",
   "name": "python",
   "nbconvert_exporter": "python",
   "pygments_lexer": "ipython2",
   "version": "2.7.6"
  }
 },
 "nbformat": 4,
 "nbformat_minor": 5
}
